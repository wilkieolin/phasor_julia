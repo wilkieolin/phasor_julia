{
 "cells": [
  {
   "cell_type": "code",
   "execution_count": 1,
   "metadata": {},
   "outputs": [
    {
     "name": "stderr",
     "output_type": "stream",
     "text": [
      "\u001b[32m\u001b[1m  Activating\u001b[22m\u001b[39m project at `~/code/phasor_julia`\n"
     ]
    }
   ],
   "source": [
    "using Pkg\n",
    "Pkg.activate(\".\")"
   ]
  },
  {
   "cell_type": "code",
   "execution_count": 2,
   "metadata": {},
   "outputs": [],
   "source": [
    "using Distributed, ClusterManagers\n",
    "using Base: @kwdef"
   ]
  },
  {
   "cell_type": "code",
   "execution_count": 3,
   "metadata": {},
   "outputs": [],
   "source": [
    "addprocs(6)\n",
    "@everywhere include(\"module.jl\")"
   ]
  },
  {
   "cell_type": "code",
   "execution_count": 4,
   "metadata": {},
   "outputs": [
    {
     "data": {
      "text/plain": [
       "Args"
      ]
     },
     "metadata": {},
     "output_type": "display_data"
    }
   ],
   "source": [
    "@kwdef struct Args\n",
    "\tnodes::Int = 20\n",
    "\tp_edge::Real = 0.1\n",
    "\td_vsa::Int = 1024\n",
    "end\n"
   ]
  },
  {
   "cell_type": "code",
   "execution_count": 9,
   "metadata": {},
   "outputs": [
    {
     "data": {
      "text/plain": [
       "1-element Vector{Int64}:\n",
       " 1024"
      ]
     },
     "metadata": {},
     "output_type": "display_data"
    }
   ],
   "source": [
    "n_trials = 6\n",
    "n_nodes = [20, 25]\n",
    "p_edge = [0.1]\n",
    "d_vsa = [1024]"
   ]
  },
  {
   "cell_type": "code",
   "execution_count": 14,
   "metadata": {},
   "outputs": [
    {
     "data": {
      "text/plain": [
       "12-element Vector{Args}:\n",
       " Args(20, 0.1, 1024)\n",
       " Args(20, 0.1, 1024)\n",
       " Args(20, 0.1, 1024)\n",
       " Args(20, 0.1, 1024)\n",
       " Args(20, 0.1, 1024)\n",
       " Args(20, 0.1, 1024)\n",
       " Args(25, 0.1, 1024)\n",
       " Args(25, 0.1, 1024)\n",
       " Args(25, 0.1, 1024)\n",
       " Args(25, 0.1, 1024)\n",
       " Args(25, 0.1, 1024)\n",
       " Args(25, 0.1, 1024)"
      ]
     },
     "metadata": {},
     "output_type": "display_data"
    }
   ],
   "source": [
    "all_args = stack([[Args(nodes = n, p_edge = p, d_vsa = d) for i in 1:n_trials] for n in n_nodes, p in p_edge, d in d_vsa]) |> vec"
   ]
  },
  {
   "cell_type": "code",
   "execution_count": null,
   "metadata": {},
   "outputs": [],
   "source": []
  }
 ],
 "metadata": {
  "kernelspec": {
   "display_name": "Julia 1.9.0",
   "language": "julia",
   "name": "julia-1.9"
  },
  "language_info": {
   "file_extension": ".jl",
   "mimetype": "application/julia",
   "name": "julia",
   "version": "1.9.0"
  },
  "orig_nbformat": 4
 },
 "nbformat": 4,
 "nbformat_minor": 2
}
