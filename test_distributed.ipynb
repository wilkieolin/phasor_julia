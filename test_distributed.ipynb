{
 "cells": [
  {
   "cell_type": "code",
   "execution_count": 1,
   "metadata": {},
   "outputs": [
    {
     "name": "stderr",
     "output_type": "stream",
     "text": [
      "\u001b[32m\u001b[1m  Activating\u001b[22m\u001b[39m project at `~/code/phasor_julia`\n"
     ]
    }
   ],
   "source": [
    "using Pkg\n",
    "Pkg.activate(\".\")"
   ]
  },
  {
   "cell_type": "code",
   "execution_count": 18,
   "metadata": {},
   "outputs": [],
   "source": [
    "using Distributed, ClusterManagers\n",
    "using Base: @kwdef\n",
    "using Random: Xoshiro, AbstractRNG\n",
    "using JLD2"
   ]
  },
  {
   "cell_type": "code",
   "execution_count": 3,
   "metadata": {},
   "outputs": [],
   "source": [
    "addprocs(6)\n",
    "@everywhere include(\"graph_functions.jl\")"
   ]
  },
  {
   "cell_type": "code",
   "execution_count": 4,
   "metadata": {},
   "outputs": [],
   "source": [
    "@everywhere @kwdef struct Args\n",
    "\tnodes::Int = 20\n",
    "\tp_edge::Real = 0.1\n",
    "\td_vsa::Int = 1024\n",
    "\trng::AbstractRNG\n",
    "end"
   ]
  },
  {
   "cell_type": "code",
   "execution_count": 5,
   "metadata": {},
   "outputs": [
    {
     "data": {
      "text/plain": [
       "Xoshiro(0xa379de7eeeb2a4e8, 0x953dccb6b532b3af, 0xf597b8ff8cfd652a, 0xccd7337c571680d1)"
      ]
     },
     "metadata": {},
     "output_type": "display_data"
    }
   ],
   "source": [
    "key = Xoshiro(42)"
   ]
  },
  {
   "cell_type": "code",
   "execution_count": 6,
   "metadata": {},
   "outputs": [
    {
     "data": {
      "text/plain": [
       "1-element Vector{Int64}:\n",
       " 1024"
      ]
     },
     "metadata": {},
     "output_type": "display_data"
    }
   ],
   "source": [
    "n_trials = 6\n",
    "n_nodes = [10]\n",
    "p_edge = [0.5]\n",
    "d_vsa = [1024]"
   ]
  },
  {
   "cell_type": "code",
   "execution_count": 7,
   "metadata": {},
   "outputs": [
    {
     "data": {
      "text/plain": [
       "6-element Vector{Args}:\n",
       " Args(10, 0.5, 1024, Xoshiro(0xad17fbd0cd36cad9, 0xe4d41c7b921cc2bb, 0x0f244ba7a1cb4d0c, 0x39206badf0a5d323))\n",
       " Args(10, 0.5, 1024, Xoshiro(0x939831773e6d9992, 0xea9018f358e4f914, 0xafd96e371068686a, 0x0563f8202a459b83))\n",
       " Args(10, 0.5, 1024, Xoshiro(0x761d9e8b7a194f48, 0x48b9aee60a875aab, 0xee891732c2f4a5f1, 0x97adaf4677231ee1))\n",
       " Args(10, 0.5, 1024, Xoshiro(0x9233ceb4a383300c, 0xd89956f22e283eea, 0x0d719e114932d9a5, 0xdc620b951f9d946c))\n",
       " Args(10, 0.5, 1024, Xoshiro(0xeb4a8e918fe42953, 0x1e242f79878f7304, 0x6f30c5eb2f399ecf, 0x2027e355253a9978))\n",
       " Args(10, 0.5, 1024, Xoshiro(0x66c323c57444b2fa, 0x169d95f71869248c, 0x22b29ff74786e821, 0x2adac704702b2190))"
      ]
     },
     "metadata": {},
     "output_type": "display_data"
    }
   ],
   "source": [
    "all_args = stack([[Args(nodes = n, p_edge = p, d_vsa = d, rng = Xoshiro(rand(key, UInt32))) for i in 1:n_trials] for n in n_nodes, p in p_edge, d in d_vsa]) |> vec"
   ]
  },
  {
   "cell_type": "code",
   "execution_count": 8,
   "metadata": {},
   "outputs": [],
   "source": [
    "@everywhere function call_test(args::Args)\n",
    "    aurocs = test_methods(args.nodes, args.p_edge, args.d_vsa, args.rng)\n",
    "    return aurocs\n",
    "end"
   ]
  },
  {
   "cell_type": "code",
   "execution_count": 9,
   "metadata": {},
   "outputs": [
    {
     "name": "stdout",
     "output_type": "stream",
     "text": [
      "      From worker 7:\t\u001b[33m\u001b[1m┌ \u001b[22m\u001b[39m\u001b[33m\u001b[1mWarning: \u001b[22m\u001b[39mDuplicated knots were deduplicated. Use Interpolations.deduplicate_knots!(knots) explicitly to avoid this warning.\n",
      "      From worker 7:\t\u001b[33m\u001b[1m│ \u001b[22m\u001b[39m  k1 =\n",
      "      From worker 7:\t\u001b[33m\u001b[1m│ \u001b[22m\u001b[39m   403-element Vector{Float64}:\n",
      "      From worker 7:\t\u001b[33m\u001b[1m│ \u001b[22m\u001b[39m    0.0\n",
      "      From worker 7:\t\u001b[33m\u001b[1m│ \u001b[22m\u001b[39m    0.0\n",
      "      From worker 7:\t\u001b[33m\u001b[1m│ \u001b[22m\u001b[39m    0.0\n",
      "      From worker 7:\t\u001b[33m\u001b[1m│ \u001b[22m\u001b[39m    0.0\n",
      "      From worker 7:\t\u001b[33m\u001b[1m│ \u001b[22m\u001b[39m    ⋮\n",
      "      From worker 7:\t\u001b[33m\u001b[1m│ \u001b[22m\u001b[39m    1.0\n",
      "      From worker 7:\t\u001b[33m\u001b[1m│ \u001b[22m\u001b[39m    1.0\n",
      "      From worker 7:\t\u001b[33m\u001b[1m│ \u001b[22m\u001b[39m    1.0\n",
      "      From worker 7:\t\u001b[33m\u001b[1m└ \u001b[22m\u001b[39m\u001b[90m@ Interpolations ~/.julia/packages/Interpolations/nDwIa/src/gridded/gridded.jl:77\u001b[39m\n"
     ]
    },
    {
     "name": "stdout",
     "output_type": "stream",
     "text": [
      "      From worker 5:\t\u001b[33m\u001b[1m┌ \u001b[22m\u001b[39m\u001b[33m\u001b[1mWarning: \u001b[22m\u001b[39mDuplicated knots were deduplicated. Use Interpolations.deduplicate_knots!(knots) explicitly to avoid this warning.\n",
      "      From worker 5:\t\u001b[33m\u001b[1m│ \u001b[22m\u001b[39m  k1 =\n",
      "      From worker 5:\t\u001b[33m\u001b[1m│ \u001b[22m\u001b[39m   403-element Vector{Float64}:\n",
      "      From worker 5:\t\u001b[33m\u001b[1m│ \u001b[22m\u001b[39m    0.0\n",
      "      From worker 5:\t\u001b[33m\u001b[1m│ \u001b[22m\u001b[39m    0.0\n",
      "      From worker 5:\t\u001b[33m\u001b[1m│ \u001b[22m\u001b[39m    0.0\n",
      "      From worker 5:\t\u001b[33m\u001b[1m│ \u001b[22m\u001b[39m    0.0\n",
      "      From worker 5:\t\u001b[33m\u001b[1m│ \u001b[22m\u001b[39m    ⋮\n",
      "      From worker 5:\t\u001b[33m\u001b[1m│ \u001b[22m\u001b[39m    1.0\n",
      "      From worker 5:\t\u001b[33m\u001b[1m│ \u001b[22m\u001b[39m    1.0\n",
      "      From worker 5:\t\u001b[33m\u001b[1m│ \u001b[22m\u001b[39m    1.0\n",
      "      From worker 5:\t\u001b[33m\u001b[1m└ \u001b[22m\u001b[39m\u001b[90m@ Interpolations ~/.julia/packages/Interpolations/nDwIa/src/gridded/gridded.jl:77\u001b[39m\n"
     ]
    },
    {
     "name": "stdout",
     "output_type": "stream",
     "text": [
      "      From worker 2:\t\u001b[33m\u001b[1m┌ \u001b[22m\u001b[39m\u001b[33m\u001b[1mWarning: \u001b[22m\u001b[39mDuplicated knots were deduplicated. Use Interpolations.deduplicate_knots!(knots) explicitly to avoid this warning.\n",
      "      From worker 2:\t\u001b[33m\u001b[1m│ \u001b[22m\u001b[39m  k1 =\n",
      "      From worker 2:\t\u001b[33m\u001b[1m│ \u001b[22m\u001b[39m   403-element Vector{Float64}:\n",
      "      From worker 2:\t\u001b[33m\u001b[1m│ \u001b[22m\u001b[39m    0.0\n",
      "      From worker 2:\t\u001b[33m\u001b[1m│ \u001b[22m\u001b[39m    0.0\n",
      "      From worker 2:\t\u001b[33m\u001b[1m│ \u001b[22m\u001b[39m    0.0\n",
      "      From worker 2:\t\u001b[33m\u001b[1m│ \u001b[22m\u001b[39m    0.0\n",
      "      From worker 2:\t\u001b[33m\u001b[1m│ \u001b[22m\u001b[39m    ⋮\n",
      "      From worker 2:\t\u001b[33m\u001b[1m│ \u001b[22m\u001b[39m    1.0\n",
      "      From worker 2:\t\u001b[33m\u001b[1m│ \u001b[22m\u001b[39m    1.0\n",
      "      From worker 2:\t\u001b[33m\u001b[1m│ \u001b[22m\u001b[39m    1.0\n",
      "      From worker 2:\t\u001b[33m\u001b[1m└ \u001b[22m\u001b[39m\u001b[90m@ Interpolations ~/.julia/packages/Interpolations/nDwIa/src/gridded/gridded.jl:77\u001b[39m\n",
      "      From worker 6:\t\u001b[33m\u001b[1m┌ \u001b[22m\u001b[39m\u001b[33m\u001b[1mWarning: \u001b[22m\u001b[39mDuplicated knots were deduplicated. Use Interpolations.deduplicate_knots!(knots) explicitly to avoid this warning.\n",
      "      From worker 6:\t\u001b[33m\u001b[1m│ \u001b[22m\u001b[39m  k1 =\n",
      "      From worker 6:\t\u001b[33m\u001b[1m│ \u001b[22m\u001b[39m   403-element Vector{Float64}:\n",
      "      From worker 6:\t\u001b[33m\u001b[1m│ \u001b[22m\u001b[39m    0.0\n",
      "      From worker 6:\t\u001b[33m\u001b[1m│ \u001b[22m\u001b[39m    0.0\n",
      "      From worker 6:\t\u001b[33m\u001b[1m│ \u001b[22m\u001b[39m    0.0\n",
      "      From worker 6:\t\u001b[33m\u001b[1m│ \u001b[22m\u001b[39m    0.0\n",
      "      From worker 6:\t\u001b[33m\u001b[1m│ \u001b[22m\u001b[39m    ⋮\n",
      "      From worker 6:\t\u001b[33m\u001b[1m│ \u001b[22m\u001b[39m    1.0\n",
      "      From worker 6:\t\u001b[33m\u001b[1m│ \u001b[22m\u001b[39m    1.0\n",
      "      From worker 6:\t\u001b[33m\u001b[1m│ \u001b[22m\u001b[39m    1.0\n",
      "      From worker 6:\t\u001b[33m\u001b[1m└ \u001b[22m\u001b[39m\u001b[90m@ Interpolations ~/.julia/packages/Interpolations/nDwIa/src/gridded/gridded.jl:77\u001b[39m\n",
      "      From worker 4:\t\u001b[33m\u001b[1m┌ \u001b[22m\u001b[39m\u001b[33m\u001b[1mWarning: \u001b[22m\u001b[39mDuplicated knots were deduplicated. Use Interpolations.deduplicate_knots!(knots) explicitly to avoid this warning.\n",
      "      From worker 4:\t\u001b[33m\u001b[1m│ \u001b[22m\u001b[39m  k1 =\n",
      "      From worker 4:\t\u001b[33m\u001b[1m│ \u001b[22m\u001b[39m   403-element Vector{Float64}:\n",
      "      From worker 4:\t\u001b[33m\u001b[1m│ \u001b[22m\u001b[39m    0.0\n",
      "      From worker 4:\t\u001b[33m\u001b[1m│ \u001b[22m\u001b[39m    0.0\n",
      "      From worker 4:\t\u001b[33m\u001b[1m│ \u001b[22m\u001b[39m    0.0\n",
      "      From worker 4:\t\u001b[33m\u001b[1m│ \u001b[22m\u001b[39m    0.0\n",
      "      From worker 4:\t\u001b[33m\u001b[1m│ \u001b[22m\u001b[39m    ⋮\n",
      "      From worker 4:\t\u001b[33m\u001b[1m│ \u001b[22m\u001b[39m    1.0\n",
      "      From worker 4:\t\u001b[33m\u001b[1m│ \u001b[22m\u001b[39m    1.0\n",
      "      From worker 4:\t\u001b[33m\u001b[1m│ \u001b[22m\u001b[39m    1.0\n",
      "      From worker 4:\t\u001b[33m\u001b[1m└ \u001b[22m\u001b[39m\u001b[90m@ Interpolations ~/.julia/packages/Interpolations/nDwIa/src/gridded/gridded.jl:77\u001b[39m\n"
     ]
    },
    {
     "name": "stdout",
     "output_type": "stream",
     "text": [
      "      From worker 3:\t\u001b[33m\u001b[1m┌ \u001b[22m\u001b[39m\u001b[33m\u001b[1mWarning: \u001b[22m\u001b[39mDuplicated knots were deduplicated. Use Interpolations.deduplicate_knots!(knots) explicitly to avoid this warning.\n",
      "      From worker 3:\t\u001b[33m\u001b[1m│ \u001b[22m\u001b[39m  k1 =\n",
      "      From worker 3:\t\u001b[33m\u001b[1m│ \u001b[22m\u001b[39m   403-element Vector{Float64}:\n",
      "      From worker 3:\t\u001b[33m\u001b[1m│ \u001b[22m\u001b[39m    0.0\n",
      "      From worker 3:\t\u001b[33m\u001b[1m│ \u001b[22m\u001b[39m    0.0\n",
      "      From worker 3:\t\u001b[33m\u001b[1m│ \u001b[22m\u001b[39m    0.0\n",
      "      From worker 3:\t\u001b[33m\u001b[1m│ \u001b[22m\u001b[39m    0.0\n",
      "      From worker 3:\t\u001b[33m\u001b[1m│ \u001b[22m\u001b[39m    ⋮\n",
      "      From worker 3:\t\u001b[33m\u001b[1m│ \u001b[22m\u001b[39m    1.0\n",
      "      From worker 3:\t\u001b[33m\u001b[1m│ \u001b[22m\u001b[39m    1.0\n",
      "      From worker 3:\t\u001b[33m\u001b[1m│ \u001b[22m\u001b[39m    1.0\n",
      "      From worker 3:\t\u001b[33m\u001b[1m└ \u001b[22m\u001b[39m\u001b[90m@ Interpolations ~/.julia/packages/Interpolations/nDwIa/src/gridded/gridded.jl:77\u001b[39m\n"
     ]
    },
    {
     "name": "stdout",
     "output_type": "stream",
     "text": [
      "      From worker 6:\t\u001b[33m\u001b[1m┌ \u001b[22m\u001b[39m\u001b[33m\u001b[1mWarning: \u001b[22m\u001b[39mDuplicated knots were deduplicated. Use Interpolations.deduplicate_knots!(knots) explicitly to avoid this warning.\n",
      "      From worker 6:\t\u001b[33m\u001b[1m│ \u001b[22m\u001b[39m  k1 =\n",
      "      From worker 6:\t\u001b[33m\u001b[1m│ \u001b[22m\u001b[39m   403-element Vector{Float64}:\n",
      "      From worker 6:\t\u001b[33m\u001b[1m│ \u001b[22m\u001b[39m    0.0\n",
      "      From worker 6:\t\u001b[33m\u001b[1m│ \u001b[22m\u001b[39m    0.0\n",
      "      From worker 6:\t\u001b[33m\u001b[1m│ \u001b[22m\u001b[39m    0.0\n",
      "      From worker 6:\t\u001b[33m\u001b[1m│ \u001b[22m\u001b[39m    0.0\n",
      "      From worker 6:\t\u001b[33m\u001b[1m│ \u001b[22m\u001b[39m    ⋮\n",
      "      From worker 6:\t\u001b[33m\u001b[1m│ \u001b[22m\u001b[39m    1.0\n",
      "      From worker 6:\t\u001b[33m\u001b[1m│ \u001b[22m\u001b[39m    1.0\n",
      "      From worker 6:\t\u001b[33m\u001b[1m│ \u001b[22m\u001b[39m    1.0\n",
      "      From worker 6:\t\u001b[33m\u001b[1m└ \u001b[22m\u001b[39m\u001b[90m@ Interpolations ~/.julia/packages/Interpolations/nDwIa/src/gridded/gridded.jl:77\u001b[39m\n"
     ]
    },
    {
     "name": "stdout",
     "output_type": "stream",
     "text": [
      "      From worker 7:\t\u001b[33m\u001b[1m┌ \u001b[22m\u001b[39m\u001b[33m\u001b[1mWarning: \u001b[22m\u001b[39mDuplicated knots were deduplicated. Use Interpolations.deduplicate_knots!(knots) explicitly to avoid this warning.\n",
      "      From worker 7:\t\u001b[33m\u001b[1m│ \u001b[22m\u001b[39m  k1 =\n",
      "      From worker 7:\t\u001b[33m\u001b[1m│ \u001b[22m\u001b[39m   403-element Vector{Float64}:\n",
      "      From worker 7:\t\u001b[33m\u001b[1m│ \u001b[22m\u001b[39m    0.0\n",
      "      From worker 7:\t\u001b[33m\u001b[1m│ \u001b[22m\u001b[39m    0.0\n",
      "      From worker 7:\t\u001b[33m\u001b[1m│ \u001b[22m\u001b[39m    0.0\n",
      "      From worker 7:\t\u001b[33m\u001b[1m│ \u001b[22m\u001b[39m    0.0\n",
      "      From worker 7:\t\u001b[33m\u001b[1m│ \u001b[22m\u001b[39m    ⋮\n",
      "      From worker 7:\t\u001b[33m\u001b[1m│ \u001b[22m\u001b[39m    1.0\n",
      "      From worker 7:\t\u001b[33m\u001b[1m│ \u001b[22m\u001b[39m    1.0\n",
      "      From worker 7:\t\u001b[33m\u001b[1m│ \u001b[22m\u001b[39m    1.0\n",
      "      From worker 7:\t\u001b[33m\u001b[1m└ \u001b[22m\u001b[39m\u001b[90m@ Interpolations ~/.julia/packages/Interpolations/nDwIa/src/gridded/gridded.jl:77\u001b[39m\n"
     ]
    },
    {
     "name": "stdout",
     "output_type": "stream",
     "text": [
      "      From worker 4:\t\u001b[33m\u001b[1m┌ \u001b[22m\u001b[39m\u001b[33m\u001b[1mWarning: \u001b[22m\u001b[39mDuplicated knots were deduplicated. Use Interpolations.deduplicate_knots!(knots) explicitly to avoid this warning.\n",
      "      From worker 4:\t\u001b[33m\u001b[1m│ \u001b[22m\u001b[39m  k1 =\n",
      "      From worker 4:\t\u001b[33m\u001b[1m│ \u001b[22m\u001b[39m   403-element Vector{Float64}:\n",
      "      From worker 4:\t\u001b[33m\u001b[1m│ \u001b[22m\u001b[39m    0.0\n",
      "      From worker 4:\t\u001b[33m\u001b[1m│ \u001b[22m\u001b[39m    0.0\n",
      "      From worker 4:\t\u001b[33m\u001b[1m│ \u001b[22m\u001b[39m    0.0\n",
      "      From worker 4:\t\u001b[33m\u001b[1m│ \u001b[22m\u001b[39m    0.0\n",
      "      From worker 4:\t\u001b[33m\u001b[1m│ \u001b[22m\u001b[39m    ⋮\n",
      "      From worker 4:\t\u001b[33m\u001b[1m│ \u001b[22m\u001b[39m    1.0\n",
      "      From worker 4:\t\u001b[33m\u001b[1m│ \u001b[22m\u001b[39m    1.0\n",
      "      From worker 4:\t\u001b[33m\u001b[1m│ \u001b[22m\u001b[39m    1.0\n",
      "      From worker 4:\t\u001b[33m\u001b[1m└ \u001b[22m\u001b[39m\u001b[90m@ Interpolations ~/.julia/packages/Interpolations/nDwIa/src/gridded/gridded.jl:77\u001b[39m\n"
     ]
    },
    {
     "name": "stdout",
     "output_type": "stream",
     "text": [
      "      From worker 5:\t\u001b[33m\u001b[1m┌ \u001b[22m\u001b[39m\u001b[33m\u001b[1mWarning: \u001b[22m\u001b[39mDuplicated knots were deduplicated. Use Interpolations.deduplicate_knots!(knots) explicitly to avoid this warning.\n",
      "      From worker 5:\t\u001b[33m\u001b[1m│ \u001b[22m\u001b[39m  k1 =\n",
      "      From worker 5:\t\u001b[33m\u001b[1m│ \u001b[22m\u001b[39m   403-element Vector{Float64}:\n",
      "      From worker 5:\t\u001b[33m\u001b[1m│ \u001b[22m\u001b[39m    0.0\n",
      "      From worker 5:\t\u001b[33m\u001b[1m│ \u001b[22m\u001b[39m    0.0\n",
      "      From worker 5:\t\u001b[33m\u001b[1m│ \u001b[22m\u001b[39m    0.0\n",
      "      From worker 5:\t\u001b[33m\u001b[1m│ \u001b[22m\u001b[39m    0.0\n",
      "      From worker 5:\t\u001b[33m\u001b[1m│ \u001b[22m\u001b[39m    ⋮\n",
      "      From worker 5:\t\u001b[33m\u001b[1m│ \u001b[22m\u001b[39m    1.0\n",
      "      From worker 5:\t\u001b[33m\u001b[1m│ \u001b[22m\u001b[39m    1.0\n",
      "      From worker 5:\t\u001b[33m\u001b[1m│ \u001b[22m\u001b[39m    1.0\n",
      "      From worker 5:\t\u001b[33m\u001b[1m└ \u001b[22m\u001b[39m\u001b[90m@ Interpolations ~/.julia/packages/Interpolations/nDwIa/src/gridded/gridded.jl:77\u001b[39m\n"
     ]
    },
    {
     "name": "stdout",
     "output_type": "stream",
     "text": [
      "      From worker 2:\t\u001b[33m\u001b[1m┌ \u001b[22m\u001b[39m\u001b[33m\u001b[1mWarning: \u001b[22m\u001b[39mDuplicated knots were deduplicated. Use Interpolations.deduplicate_knots!(knots) explicitly to avoid this warning.\n",
      "      From worker 2:\t\u001b[33m\u001b[1m│ \u001b[22m\u001b[39m  k1 =\n",
      "      From worker 2:\t\u001b[33m\u001b[1m│ \u001b[22m\u001b[39m   403-element Vector{Float64}:\n",
      "      From worker 2:\t\u001b[33m\u001b[1m│ \u001b[22m\u001b[39m    0.0\n",
      "      From worker 2:\t\u001b[33m\u001b[1m│ \u001b[22m\u001b[39m    0.0\n",
      "      From worker 2:\t\u001b[33m\u001b[1m│ \u001b[22m\u001b[39m    0.0\n",
      "      From worker 2:\t\u001b[33m\u001b[1m│ \u001b[22m\u001b[39m    0.0\n",
      "      From worker 2:\t\u001b[33m\u001b[1m│ \u001b[22m\u001b[39m    ⋮\n",
      "      From worker 2:\t\u001b[33m\u001b[1m│ \u001b[22m\u001b[39m    1.0\n",
      "      From worker 2:\t\u001b[33m\u001b[1m│ \u001b[22m\u001b[39m    1.0\n",
      "      From worker 2:\t\u001b[33m\u001b[1m│ \u001b[22m\u001b[39m    1.0\n",
      "      From worker 2:\t\u001b[33m\u001b[1m└ \u001b[22m\u001b[39m\u001b[90m@ Interpolations ~/.julia/packages/Interpolations/nDwIa/src/gridded/gridded.jl:77\u001b[39m\n"
     ]
    },
    {
     "name": "stdout",
     "output_type": "stream",
     "text": [
      "      From worker 3:\t\u001b[33m\u001b[1m┌ \u001b[22m\u001b[39m\u001b[33m\u001b[1mWarning: \u001b[22m\u001b[39mDuplicated knots were deduplicated. Use Interpolations.deduplicate_knots!(knots) explicitly to avoid this warning.\n",
      "      From worker 3:\t\u001b[33m\u001b[1m│ \u001b[22m\u001b[39m  k1 =\n",
      "      From worker 3:\t\u001b[33m\u001b[1m│ \u001b[22m\u001b[39m   403-element Vector{Float64}:\n",
      "      From worker 3:\t\u001b[33m\u001b[1m│ \u001b[22m\u001b[39m    0.0\n",
      "      From worker 3:\t\u001b[33m\u001b[1m│ \u001b[22m\u001b[39m    0.0\n",
      "      From worker 3:\t\u001b[33m\u001b[1m│ \u001b[22m\u001b[39m    0.0\n",
      "      From worker 3:\t\u001b[33m\u001b[1m│ \u001b[22m\u001b[39m    0.0\n",
      "      From worker 3:\t\u001b[33m\u001b[1m│ \u001b[22m\u001b[39m    ⋮\n",
      "      From worker 3:\t\u001b[33m\u001b[1m│ \u001b[22m\u001b[39m    1.0\n",
      "      From worker 3:\t\u001b[33m\u001b[1m│ \u001b[22m\u001b[39m    1.0\n",
      "      From worker 3:\t\u001b[33m\u001b[1m│ \u001b[22m\u001b[39m    1.0\n",
      "      From worker 3:\t\u001b[33m\u001b[1m└ \u001b[22m\u001b[39m\u001b[90m@ Interpolations ~/.julia/packages/Interpolations/nDwIa/src/gridded/gridded.jl:77\u001b[39m\n"
     ]
    },
    {
     "data": {
      "text/plain": [
       "6-element Vector{Tuple{Tuple{Float64, Float64}, Tuple{Float64, Float64}}}:\n",
       " ((1.0, 0.0), (1.0, 0.0))\n",
       " ((1.0, 0.0), (1.0, 0.0))\n",
       " ((1.0, 0.0), (1.0, 0.0))\n",
       " ((1.0, 0.0), (1.0, 0.0))\n",
       " ((1.0, 0.0), (1.0, 0.0))\n",
       " ((1.0, 0.0), (1.0, 0.0))"
      ]
     },
     "metadata": {},
     "output_type": "display_data"
    }
   ],
   "source": [
    "result = pmap(call_test, all_args)"
   ]
  },
  {
   "cell_type": "code",
   "execution_count": 19,
   "metadata": {},
   "outputs": [],
   "source": [
    "using Dates"
   ]
  },
  {
   "cell_type": "code",
   "execution_count": 23,
   "metadata": {},
   "outputs": [
    {
     "data": {
      "text/plain": [
       "2-element Vector{Pair{Int64, String}}:\n",
       " 1 => \"hi\"\n",
       " 2 => \"bye\""
      ]
     },
     "metadata": {},
     "output_type": "display_data"
    }
   ],
   "source": [
    "[1 => \"hi\", 2 => \"bye\"]"
   ]
  },
  {
   "cell_type": "code",
   "execution_count": 26,
   "metadata": {},
   "outputs": [
    {
     "data": {
      "text/plain": [
       "save (generic function with 2 methods)"
      ]
     },
     "metadata": {},
     "output_type": "display_data"
    }
   ],
   "source": [
    "function save(args, result)\n",
    "    name = \"result_\" * string(now()) * \".jld2\"\n",
    "    dict = [\"arguments\" => args, \"results\" => result]\n",
    "    save_object(name, dict)\n",
    "end"
   ]
  },
  {
   "cell_type": "code",
   "execution_count": 27,
   "metadata": {},
   "outputs": [],
   "source": [
    "save(all_args, result)"
   ]
  },
  {
   "cell_type": "code",
   "execution_count": 14,
   "metadata": {},
   "outputs": [
    {
     "data": {
      "text/plain": [
       "shutdown (generic function with 1 method)"
      ]
     },
     "metadata": {},
     "output_type": "display_data"
    }
   ],
   "source": [
    "function shutdown()\n",
    "    for i in workers()\n",
    "        rmprocs(i)\n",
    "    end\n",
    "    return\n",
    "end"
   ]
  },
  {
   "cell_type": "code",
   "execution_count": 15,
   "metadata": {},
   "outputs": [
    {
     "name": "stderr",
     "output_type": "stream",
     "text": [
      "┌ Warning: rmprocs: process 1 not removed\n",
      "└ @ Distributed /home/wolinammentorp/julia-1.9.0/share/julia/stdlib/v1.9/Distributed/src/cluster.jl:1049\n"
     ]
    }
   ],
   "source": [
    "shutdown()"
   ]
  },
  {
   "cell_type": "code",
   "execution_count": 13,
   "metadata": {},
   "outputs": [],
   "source": []
  }
 ],
 "metadata": {
  "kernelspec": {
   "display_name": "Julia 1.9.0",
   "language": "julia",
   "name": "julia-1.9"
  },
  "language_info": {
   "file_extension": ".jl",
   "mimetype": "application/julia",
   "name": "julia",
   "version": "1.9.0"
  },
  "orig_nbformat": 4
 },
 "nbformat": 4,
 "nbformat_minor": 2
}
