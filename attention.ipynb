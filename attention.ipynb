{
 "cells": [
  {
   "cell_type": "code",
   "execution_count": null,
   "metadata": {},
   "outputs": [],
   "source": [
    "42"
   ]
  },
  {
   "cell_type": "code",
   "execution_count": null,
   "metadata": {},
   "outputs": [],
   "source": [
    "using Statistics, Lux, MLUtils, OneHotArrays, MLDatasets, Plots\n",
    "using Base: @kwdef\n",
    "using Random: Xoshiro"
   ]
  },
  {
   "cell_type": "code",
   "execution_count": 3,
   "metadata": {},
   "outputs": [],
   "source": [
    "using Pkg"
   ]
  },
  {
   "cell_type": "code",
   "execution_count": 6,
   "metadata": {},
   "outputs": [],
   "source": [
    "using TensorOperations"
   ]
  },
  {
   "cell_type": "code",
   "execution_count": 7,
   "metadata": {},
   "outputs": [
    {
     "name": "stderr",
     "output_type": "stream",
     "text": [
      "┌ Warning: Error requiring `Zygote` from `SparseDiffTools`\n",
      "│   exception = (LoadError(\"/Users/wilkie/.julia/packages/SparseDiffTools/exnrN/ext/SparseDiffToolsZygote.jl\", 1, ArgumentError(\"Package SparseDiffTools does not have Zygote in its dependencies:\\n- You may have a partially installed environment. Try `Pkg.instantiate()`\\n  to ensure all packages in the environment are installed.\\n- Or, if you have SparseDiffTools checked out for development and have\\n  added Zygote as a dependency but haven't updated your primary\\n  environment's manifest file, try `Pkg.resolve()`.\\n- Otherwise you may need to report an issue with SparseDiffTools\")), Union{Ptr{Nothing}, Base.InterpreterIP}[Ptr{Nothing} @0x000000029e4b866b, Ptr{Nothing} @0x000000029e4b8837, Ptr{Nothing} @0x00000001008cfc63, Ptr{Nothing} @0x00000001009049f3, Ptr{Nothing} @0x0000000100903f03, Ptr{Nothing} @0x0000000100903b6b, Ptr{Nothing} @0x000000010090414b, Ptr{Nothing} @0x0000000100904eef, Ptr{Nothing} @0x00000001186b68e7, Ptr{Nothing} @0x00000001008cfc63, Ptr{Nothing} @0x000000011791bad3, Ptr{Nothing} @0x0000000117863cc7, Ptr{Nothing} @0x0000000117863cdf, Ptr{Nothing} @0x00000001008cfc63, Ptr{Nothing} @0x00000001008dcd17, Ptr{Nothing} @0x00000002b6874037, Ptr{Nothing} @0x00000002b687404f, Ptr{Nothing} @0x00000001008cfc63, Ptr{Nothing} @0x00000001008ea21b, Ptr{Nothing} @0x00000001008e8a03, Ptr{Nothing} @0x00000001008e9053, Base.InterpreterIP in top-level CodeInfo for SparseDiffTools at statement 15, Ptr{Nothing} @0x000000010090427f, Ptr{Nothing} @0x0000000100904eef, Ptr{Nothing} @0x00000002b6868077, Ptr{Nothing} @0x00000002b6868097, Ptr{Nothing} @0x00000001008cfc63, Ptr{Nothing} @0x0000000136b4878b, Ptr{Nothing} @0x00000002b685c073, Ptr{Nothing} @0x00000002b685c087, Ptr{Nothing} @0x00000001008cfc63, Ptr{Nothing} @0x00000001008ea21b, Ptr{Nothing} @0x00000001008e8767, Ptr{Nothing} @0x00000001008e8c8b, Ptr{Nothing} @0x00000001008e8403, Base.InterpreterIP in MethodInstance for Requires.withpath(::Any, ::String) at statement 10, Ptr{Nothing} @0x00000002b6850083, Ptr{Nothing} @0x00000002b685010b, Ptr{Nothing} @0x00000001008cfc63, Ptr{Nothing} @0x00000001008dcd17, Ptr{Nothing} @0x0000000136b180a3, Ptr{Nothing} @0x0000000136b180fb, Ptr{Nothing} @0x00000001008cfc63, Ptr{Nothing} @0x00000001008ea21b, Ptr{Nothing} @0x00000001008e8a03, Ptr{Nothing} @0x00000001008e8403, Base.InterpreterIP in MethodInstance for Requires.loadpkg(::Base.PkgId) at statement 6, Ptr{Nothing} @0x00000001008cfc63, Ptr{Nothing} @0x00000001008dcd17, Ptr{Nothing} @0x00000001020ac4b7, Ptr{Nothing} @0x00000001500545e3, Ptr{Nothing} @0x0000000150060eff, Ptr{Nothing} @0x0000000150084397, Ptr{Nothing} @0x00000001500900b3, Ptr{Nothing} @0x00000001500cc39b, Ptr{Nothing} @0x00000001500cc837, Ptr{Nothing} @0x00000001008cfc63, Ptr{Nothing} @0x00000001009049f3, Ptr{Nothing} @0x00000001009037ef, Ptr{Nothing} @0x000000010090414b, Ptr{Nothing} @0x0000000100904eef, Ptr{Nothing} @0x00000001186b68e7, Ptr{Nothing} @0x00000001008cfc63, Ptr{Nothing} @0x000000011874798f, Ptr{Nothing} @0x00000001740bc03f, Ptr{Nothing} @0x00000001740bc057, Ptr{Nothing} @0x00000001008cfc63, Ptr{Nothing} @0x00000001008ea21b, Ptr{Nothing} @0x00000001008e8a03, Ptr{Nothing} @0x00000001008e9053, Base.InterpreterIP in top-level CodeInfo for Main at statement 0, Ptr{Nothing} @0x000000010090427f, Ptr{Nothing} @0x000000010090414b, Ptr{Nothing} @0x0000000100904eef, Ptr{Nothing} @0x000000013246c26b, Ptr{Nothing} @0x00000001008cfc63, Ptr{Nothing} @0x00000001008dcd17, Ptr{Nothing} @0x00000001324481af, Ptr{Nothing} @0x000000013245427b, Ptr{Nothing} @0x00000001324600cb, Ptr{Nothing} @0x000000013246013f, Ptr{Nothing} @0x00000001008cfc63, Ptr{Nothing} @0x000000013055c29b, Ptr{Nothing} @0x00000001008cfc63, Ptr{Nothing} @0x00000001175092c7, Ptr{Nothing} @0x000000012aa8400b, Ptr{Nothing} @0x000000012aa8406b, Ptr{Nothing} @0x00000001008cfc63, Ptr{Nothing} @0x00000001044d49a7, Ptr{Nothing} @0x0000000100904323, Ptr{Nothing} @0x000000010090414b, Ptr{Nothing} @0x0000000100904eef, Ptr{Nothing} @0x00000001186b68e7, Ptr{Nothing} @0x00000001008cfc63, Ptr{Nothing} @0x000000011791bad3, Ptr{Nothing} @0x0000000117863cc7, Ptr{Nothing} @0x0000000117863cdf, Ptr{Nothing} @0x00000001008cfc63, Ptr{Nothing} @0x000000011755b667, Ptr{Nothing} @0x000000011755c2db, Ptr{Nothing} @0x000000011755c403, Ptr{Nothing} @0x00000001008cfc63, Ptr{Nothing} @0x000000010092be1b, Ptr{Nothing} @0x000000010092bd13])\n",
      "└ @ Requires /Users/wilkie/.julia/packages/Requires/Z8rfN/src/require.jl:51\n",
      "┌ Warning: Error requiring `ReverseDiff` from `LuxLib`\n",
      "│   exception = (LoadError(\"/Users/wilkie/.julia/packages/LuxLib/OVp4O/ext_compat/LuxLibReverseDiffExt.jl\", 1, ErrorException(\"syntax: malformed expression\")), Union{Ptr{Nothing}, Base.InterpreterIP}[Ptr{Nothing} @0x00000001008dbee7, Ptr{Nothing} @0x00000001008cfc63, Ptr{Nothing} @0x00000001008ea21b, Ptr{Nothing} @0x00000001008e8a03, Ptr{Nothing} @0x00000001008e9053, Base.InterpreterIP in top-level CodeInfo for LuxLib.LuxLibReverseDiffExt at statement 0, Ptr{Nothing} @0x000000010090427f, Ptr{Nothing} @0x0000000100904613, Ptr{Nothing} @0x000000010090443f, Ptr{Nothing} @0x0000000100904eef, Ptr{Nothing} @0x000000011786388f, Ptr{Nothing} @0x00000001178638a3, Ptr{Nothing} @0x00000001008cfc63, Ptr{Nothing} @0x00000001008ea21b, Ptr{Nothing} @0x00000001008e8a03, Ptr{Nothing} @0x00000001008e9053, Base.InterpreterIP in top-level CodeInfo for LuxLib.LuxLibReverseDiffExt at statement 116, Ptr{Nothing} @0x000000010090427f, Ptr{Nothing} @0x0000000100903b6b, Ptr{Nothing} @0x000000010090414b, Ptr{Nothing} @0x0000000100904eef, Ptr{Nothing} @0x00000001186b68e7, Ptr{Nothing} @0x00000001008cfc63, Ptr{Nothing} @0x000000011791bad3, Ptr{Nothing} @0x0000000117863cc7, Ptr{Nothing} @0x0000000117863cdf, Ptr{Nothing} @0x00000001008cfc63, Ptr{Nothing} @0x00000001008dcd17, Ptr{Nothing} @0x000000014055c037, Ptr{Nothing} @0x000000014055c04f, Ptr{Nothing} @0x00000001008cfc63, Ptr{Nothing} @0x00000001008ea21b, Ptr{Nothing} @0x00000001008e8a03, Ptr{Nothing} @0x00000001008e9053, Base.InterpreterIP in top-level CodeInfo for LuxLib at statement 8, Ptr{Nothing} @0x000000010090427f, Ptr{Nothing} @0x0000000100904eef, Ptr{Nothing} @0x00000002b6b10077, Ptr{Nothing} @0x00000002b6b10097, Ptr{Nothing} @0x00000001008cfc63, Ptr{Nothing} @0x0000000136b4878b, Ptr{Nothing} @0x00000002b6b04073, Ptr{Nothing} @0x00000002b6b04087, Ptr{Nothing} @0x00000001008cfc63, Ptr{Nothing} @0x00000001008ea21b, Ptr{Nothing} @0x00000001008e8767, Ptr{Nothing} @0x00000001008e8c8b, Ptr{Nothing} @0x00000001008e8403, Base.InterpreterIP in MethodInstance for Requires.withpath(::Any, ::String) at statement 10, Ptr{Nothing} @0x00000002b6af8083, Ptr{Nothing} @0x00000002b6af810b, Ptr{Nothing} @0x00000001008cfc63, Ptr{Nothing} @0x00000001008dcd17, Ptr{Nothing} @0x0000000136b18073, Ptr{Nothing} @0x0000000136b180fb, Ptr{Nothing} @0x00000001008cfc63, Ptr{Nothing} @0x00000001008ea21b, Ptr{Nothing} @0x00000001008e8a03, Ptr{Nothing} @0x00000001008e8403, Base.InterpreterIP in MethodInstance for Requires.loadpkg(::Base.PkgId) at statement 6, Ptr{Nothing} @0x00000001008cfc63, Ptr{Nothing} @0x00000001008dcd17, Ptr{Nothing} @0x00000001020ac4b7, Ptr{Nothing} @0x00000001500545e3, Ptr{Nothing} @0x0000000150060eff, Ptr{Nothing} @0x0000000150084397, Ptr{Nothing} @0x00000001500900b3, Ptr{Nothing} @0x00000001500cc39b, Ptr{Nothing} @0x00000001500cc837, Ptr{Nothing} @0x00000001008cfc63, Ptr{Nothing} @0x00000001009049f3, Ptr{Nothing} @0x00000001009037ef, Ptr{Nothing} @0x000000010090414b, Ptr{Nothing} @0x0000000100904eef, Ptr{Nothing} @0x00000001186b68e7, Ptr{Nothing} @0x00000001008cfc63, Ptr{Nothing} @0x000000011874798f, Ptr{Nothing} @0x00000001740bc03f, Ptr{Nothing} @0x00000001740bc057, Ptr{Nothing} @0x00000001008cfc63, Ptr{Nothing} @0x00000001008ea21b, Ptr{Nothing} @0x00000001008e8a03, Ptr{Nothing} @0x00000001008e9053, Base.InterpreterIP in top-level CodeInfo for Main at statement 0, Ptr{Nothing} @0x000000010090427f, Ptr{Nothing} @0x000000010090414b, Ptr{Nothing} @0x0000000100904eef, Ptr{Nothing} @0x000000013246c26b, Ptr{Nothing} @0x00000001008cfc63, Ptr{Nothing} @0x00000001008dcd17, Ptr{Nothing} @0x00000001324481af, Ptr{Nothing} @0x000000013245427b, Ptr{Nothing} @0x00000001324600cb, Ptr{Nothing} @0x000000013246013f, Ptr{Nothing} @0x00000001008cfc63, Ptr{Nothing} @0x000000013055c29b, Ptr{Nothing} @0x00000001008cfc63, Ptr{Nothing} @0x00000001175092c7, Ptr{Nothing} @0x000000012aa8400b, Ptr{Nothing} @0x000000012aa8406b, Ptr{Nothing} @0x00000001008cfc63, Ptr{Nothing} @0x00000001044d49a7, Ptr{Nothing} @0x0000000100904323, Ptr{Nothing} @0x000000010090414b, Ptr{Nothing} @0x0000000100904eef, Ptr{Nothing} @0x00000001186b68e7, Ptr{Nothing} @0x00000001008cfc63, Ptr{Nothing} @0x000000011791bad3, Ptr{Nothing} @0x0000000117863cc7, Ptr{Nothing} @0x0000000117863cdf, Ptr{Nothing} @0x00000001008cfc63, Ptr{Nothing} @0x000000011755b667, Ptr{Nothing} @0x000000011755c2db, Ptr{Nothing} @0x000000011755c403, Ptr{Nothing} @0x00000001008cfc63, Ptr{Nothing} @0x000000010092be1b, Ptr{Nothing} @0x000000010092bd13])\n",
      "└ @ Requires /Users/wilkie/.julia/packages/Requires/Z8rfN/src/require.jl:51\n"
     ]
    },
    {
     "data": {
      "text/plain": [
       "zero_nans (generic function with 1 method)"
      ]
     },
     "metadata": {},
     "output_type": "display_data"
    }
   ],
   "source": [
    "include(\"src/network.jl\")\n",
    "include(\"src/vsa.jl\")\n",
    "include(\"src/spiking.jl\")"
   ]
  },
  {
   "cell_type": "code",
   "execution_count": 10,
   "metadata": {},
   "outputs": [],
   "source": [
    "q = random_symbols((1024, 32, 20))\n",
    "k = random_symbols((1024, 32, 20))\n",
    "v = random_symbols((1024, 32, 20));"
   ]
  },
  {
   "cell_type": "code",
   "execution_count": 12,
   "metadata": {},
   "outputs": [
    {
     "data": {
      "text/plain": [
       "32×32 Matrix{Matrix{Float64}}:\n",
       " [-0.0278113 -0.0242958 … 0.016843 0.0175298]       …  [-0.00121584 -0.0780109 … 0.0119356 0.00368672]\n",
       " [0.0048613 0.0256277 … -0.00757483 -0.014182]         [0.0224026 0.0101165 … -0.0281521 0.00597267]\n",
       " [0.0132837 0.0184731 … -0.0191083 -0.0226847]         [0.00272588 -0.0159519 … 0.0159218 -0.028547]\n",
       " [0.0102923 -0.00611128 … -0.0181636 -0.00300837]      [0.00911524 -0.00263535 … 0.00410771 -0.0147301]\n",
       " [0.026095 0.00842804 … -0.00512243 0.0107184]         [0.00232886 -0.0346007 … 0.00614209 -0.0202136]\n",
       " [-0.00742762 -0.00956203 … 0.00647058 0.00414822]  …  [-0.0232354 -0.0272173 … -0.038959 -0.00783784]\n",
       " [-0.0117294 0.0215493 … -0.00507825 0.0156745]        [0.00708855 -0.0096804 … -0.0127374 0.00891297]\n",
       " [0.00101693 0.0160631 … 0.0103162 -0.0423033]         [0.0145753 0.0283698 … -0.00898024 0.0127035]\n",
       " [0.0141931 0.0193603 … 0.0458814 0.0228042]           [-0.00960616 -0.00080968 … -0.00183281 -0.0231116]\n",
       " [0.0115823 0.00665367 … -0.0449492 -0.0262182]        [0.0175592 0.00289694 … 0.0463532 -0.0208538]\n",
       " ⋮                                                  ⋱  \n",
       " [0.030376 0.00515689 … -0.0250763 -0.0152866]         [-0.0261461 -0.00530251 … -0.0578449 0.0291745]\n",
       " [-0.015855 -0.0171364 … -0.0391937 0.0370939]         [-0.0118851 0.0316849 … -0.00336336 -0.0199046]\n",
       " [-0.0388924 0.000486405 … 0.0249922 -0.00623511]   …  [0.00835277 -0.00820248 … -0.00963592 -0.00213268]\n",
       " [0.00645449 -0.0259323 … 0.0221546 0.0024745]         [0.0265851 -0.0112683 … -0.0150266 0.000735802]\n",
       " [-0.0176228 -0.00513574 … -0.012316 0.0102711]        [0.010086 -0.00755563 … -0.024183 0.0226523]\n",
       " [-0.00685549 0.00837845 … 0.0105788 -0.0459523]       [0.0160233 -0.0197627 … -0.00251496 0.00340118]\n",
       " [-0.0324301 -0.0219193 … 0.0217866 -0.0098024]        [-0.0017419 0.00242265 … -0.0268524 0.0361819]\n",
       " [-0.0245109 -0.0231319 … 0.00348835 -0.00542696]   …  [-0.0252032 -0.0553303 … 0.025621 -0.0166427]\n",
       " [-0.0302596 -0.0360145 … -0.0182966 -0.0236897]       [0.00822185 0.0101457 … 0.0337416 0.00826079]"
      ]
     },
     "metadata": {},
     "output_type": "display_data"
    }
   ],
   "source": [
    "s = similarity_outer(q, k, 2)"
   ]
  },
  {
   "cell_type": "code",
   "execution_count": 13,
   "metadata": {},
   "outputs": [
    {
     "data": {
      "text/plain": [
       "1×20 Matrix{Float64}:\n",
       " -0.0278113  -0.0242958  -0.0142202  …  0.00964402  0.016843  0.0175298"
      ]
     },
     "metadata": {},
     "output_type": "display_data"
    }
   ],
   "source": [
    "s[1]"
   ]
  },
  {
   "cell_type": "code",
   "execution_count": null,
   "metadata": {},
   "outputs": [],
   "source": [
    "[v[:,i,:] *  "
   ]
  },
  {
   "cell_type": "code",
   "execution_count": null,
   "metadata": {},
   "outputs": [],
   "source": []
  }
 ],
 "metadata": {
  "kernelspec": {
   "display_name": "Julia 1.9.0",
   "language": "julia",
   "name": "julia-1.9"
  },
  "language_info": {
   "file_extension": ".jl",
   "mimetype": "application/julia",
   "name": "julia",
   "version": "1.9.0"
  },
  "orig_nbformat": 4
 },
 "nbformat": 4,
 "nbformat_minor": 2
}
