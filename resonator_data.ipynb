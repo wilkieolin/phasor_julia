{
 "cells": [
  {
   "cell_type": "code",
   "execution_count": 1,
   "metadata": {},
   "outputs": [
    {
     "name": "stderr",
     "output_type": "stream",
     "text": [
      "\u001b[32m\u001b[1m  Activating\u001b[22m\u001b[39m project at `~/code/phasor_julia`\n"
     ]
    }
   ],
   "source": [
    "using Pkg\n",
    "Pkg.activate(\".\")"
   ]
  },
  {
   "cell_type": "code",
   "execution_count": 2,
   "metadata": {},
   "outputs": [],
   "source": [
    "using PhasorNetworks, Plots, JLD2, Statistics, HypothesisTests\n",
    "using Random: Xoshiro, AbstractRNG"
   ]
  },
  {
   "cell_type": "code",
   "execution_count": 3,
   "metadata": {},
   "outputs": [
    {
     "data": {
      "text/plain": [
       "factor3_test_spiking (generic function with 1 method)"
      ]
     },
     "execution_count": 3,
     "metadata": {},
     "output_type": "execute_result"
    }
   ],
   "source": [
    "include(\"resonator.jl\")"
   ]
  },
  {
   "cell_type": "code",
   "execution_count": 4,
   "metadata": {},
   "outputs": [
    {
     "data": {
      "text/plain": [
       "\"data/resonator/final_2024-06-04T14:10:56.838.jld2\""
      ]
     },
     "execution_count": 4,
     "metadata": {},
     "output_type": "execute_result"
    }
   ],
   "source": [
    "file = \"data/resonator/final_2024-06-04T14:10:56.838.jld2\""
   ]
  },
  {
   "cell_type": "code",
   "execution_count": 5,
   "metadata": {},
   "outputs": [
    {
     "name": "stderr",
     "output_type": "stream",
     "text": [
      "\u001b[33m\u001b[1m┌ \u001b[22m\u001b[39m\u001b[33m\u001b[1mWarning: \u001b[22m\u001b[39mtype Main.Args does not exist in workspace; interpreting Array{Main.Args} as Array{Any}\n",
      "\u001b[33m\u001b[1m└ \u001b[22m\u001b[39m\u001b[90m@ JLD2 ~/.julia/packages/JLD2/twZ5D/src/datasets.jl:268\u001b[39m\n",
      "\u001b[33m\u001b[1m┌ \u001b[22m\u001b[39m\u001b[33m\u001b[1mWarning: \u001b[22m\u001b[39mtype Main.Args does not exist in workspace; reconstructing\n",
      "\u001b[33m\u001b[1m└ \u001b[22m\u001b[39m\u001b[90m@ JLD2 ~/.julia/packages/JLD2/twZ5D/src/data/reconstructing_datatypes.jl:621\u001b[39m\n"
     ]
    },
    {
     "data": {
      "text/plain": [
       "2-element Vector{Pair{String, Vector}}:\n",
       " \"arguments\" => Any[Reconstruct@Args(Any[20, 1024, 20, 20, Xoshiro(0xad17fbd0cd36cad9, 0xe4d41c7b921cc2bb, 0x0f244ba7a1cb4d0c, 0x39206badf0a5d323, 0x372cbd4b410e5a3b), Neuron parameters: Period 1.0 (s)\n",
       "Current kernel duration: 0.01 (s)\n",
       "Threshold: 0.001 (V)\n",
       "]), Reconstruct@Args(Any[20, 1024, 20, 20, Xoshiro(0x939831773e6d9992, 0xea9018f358e4f914, 0xafd96e371068686a, 0x0563f8202a459b83, 0xe8436c45c30dcf75), Neuron parameters: Period 1.0 (s)\n",
       "Current kernel duration: 0.01 (s)\n",
       "Threshold: 0.001 (V)\n",
       "]), Reconstruct@Args(Any[20, 1024, 20, 20, Xoshiro(0x761d9e8b7a194f48, 0x48b9aee60a875aab, 0xee891732c2f4a5f1, 0x97adaf4677231ee1, 0x1eb7ea28aa6c7525), Neuron parameters: Period 1.0 (s)\n",
       "Current kernel duration: 0.01 (s)\n",
       "Threshold: 0.001 (V)\n",
       "]), Reconstruct@Args(Any[20, 1024, 20, 20, Xoshiro(0x9233ceb4a383300c, 0xd89956f22e283eea, 0x0d719e114932d9a5, 0xdc620b951f9d946c, 0x65e63af579493bf7), Neuron parameters: Period 1.0 (s)\n",
       "Current kernel duration: 0.01 (s)\n",
       "Threshold: 0.001 (V)\n",
       "]), Reconstruct@Args(Any[20, 1024, 20, 20, Xoshiro(0xeb4a8e918fe42953, 0x1e242f79878f7304, 0x6f30c5eb2f399ecf, 0x2027e355253a9978, 0x52c231ea174cceb2), Neuron parameters: Period 1.0 (s)\n",
       "Current kernel duration: 0.01 (s)\n",
       "Threshold: 0.001 (V)\n",
       "]), Reconstruct@Args(Any[20, 1024, 20, 20, Xoshiro(0x66c323c57444b2fa, 0x169d95f71869248c, 0x22b29ff74786e821, 0x2adac704702b2190, 0x8414769e34509433), Neuron parameters: Period 1.0 (s)\n",
       "Current kernel duration: 0.01 (s)\n",
       "Threshold: 0.001 (V)\n",
       "])]\n",
       "   \"results\" => Dict{String, Any}[Dict(\"trends\" => ([0.19351657783822243; 0.22930696408237494; 0.20288409426107812;;], [0.2392545801568525; 0.22670452085881018; … ; 0.055933087563364785; 0.017864414522312508;;]), \"accuracy\" => Bool[0, 0, 0]), Dict(\"trends\" => ([0.1752433693690013; 0.22840193081669627; 0.2151301968295177;;], [0.16920026590621223; 0.13669635879567676; … ; -0.00266464147595506; -0.0033037645447818124;;]), \"accuracy\" => Bool[0, 0, 0]), Dict(\"trends\" => ([0.21839584524752345; 0.21589876610453934; 0.1986140946938431;;], [0.2016736889024742; 0.20602529375696205; … ; -0.018805461879049523; 0.01180038910652247;;]), \"accuracy\" => Bool[0, 0, 0]), Dict(\"trends\" => ([0.2231129695913128; 0.18119148980376446; 0.21799287279499593;;], [0.20796009472079613; 0.19862125273419318; … ; 0.010902630161179745; -0.006907789620266048;;]), \"accuracy\" => Bool[0, 0, 0]), Dict(\"trends\" => ([0.15610849264343055; 0.22063568809679754; 0.18391852303230885;;], [0.19931768826667626; 0.1881787618137263; … ; -0.013156278842358229; 0.025006642674149517;;]), \"accuracy\" => Bool[0, 0, 0]), Dict(\"trends\" => ([0.17889007140498736; 0.19689881619387284; 0.16907635367412682;;], [0.19505710879780622; 0.19793566974389307; … ; -0.007274498735771472; -0.01664215012014203;;]), \"accuracy\" => Bool[0, 0, 0])]"
      ]
     },
     "execution_count": 5,
     "metadata": {},
     "output_type": "execute_result"
    }
   ],
   "source": [
    "obj = load_object(file)"
   ]
  },
  {
   "cell_type": "code",
   "execution_count": 12,
   "metadata": {},
   "outputs": [
    {
     "data": {
      "text/plain": [
       "6-element Vector{Dict{String, Any}}:\n",
       " Dict(\"trends\" => ([0.19351657783822243; 0.22930696408237494; 0.20288409426107812;;], [0.2392545801568525; 0.22670452085881018; … ; 0.055933087563364785; 0.017864414522312508;;]), \"accuracy\" => Bool[0, 0, 0])\n",
       " Dict(\"trends\" => ([0.1752433693690013; 0.22840193081669627; 0.2151301968295177;;], [0.16920026590621223; 0.13669635879567676; … ; -0.00266464147595506; -0.0033037645447818124;;]), \"accuracy\" => Bool[0, 0, 0])\n",
       " Dict(\"trends\" => ([0.21839584524752345; 0.21589876610453934; 0.1986140946938431;;], [0.2016736889024742; 0.20602529375696205; … ; -0.018805461879049523; 0.01180038910652247;;]), \"accuracy\" => Bool[0, 0, 0])\n",
       " Dict(\"trends\" => ([0.2231129695913128; 0.18119148980376446; 0.21799287279499593;;], [0.20796009472079613; 0.19862125273419318; … ; 0.010902630161179745; -0.006907789620266048;;]), \"accuracy\" => Bool[0, 0, 0])\n",
       " Dict(\"trends\" => ([0.15610849264343055; 0.22063568809679754; 0.18391852303230885;;], [0.19931768826667626; 0.1881787618137263; … ; -0.013156278842358229; 0.025006642674149517;;]), \"accuracy\" => Bool[0, 0, 0])\n",
       " Dict(\"trends\" => ([0.17889007140498736; 0.19689881619387284; 0.16907635367412682;;], [0.19505710879780622; 0.19793566974389307; … ; -0.007274498735771472; -0.01664215012014203;;]), \"accuracy\" => Bool[0, 0, 0])"
      ]
     },
     "execution_count": 12,
     "metadata": {},
     "output_type": "execute_result"
    }
   ],
   "source": [
    "data = obj[2][2]"
   ]
  },
  {
   "cell_type": "code",
   "execution_count": 15,
   "metadata": {},
   "outputs": [
    {
     "data": {
      "text/plain": [
       "6-element Vector{Vector{Bool}}:\n",
       " [0, 0, 0]\n",
       " [0, 0, 0]\n",
       " [0, 0, 0]\n",
       " [0, 0, 0]\n",
       " [0, 0, 0]\n",
       " [0, 0, 0]"
      ]
     },
     "execution_count": 15,
     "metadata": {},
     "output_type": "execute_result"
    }
   ],
   "source": [
    "acc = [o[\"accuracy\"] for o in data]"
   ]
  },
  {
   "cell_type": "code",
   "execution_count": 16,
   "metadata": {},
   "outputs": [
    {
     "data": {
      "text/plain": [
       "6-element Vector{Tuple{Matrix{Float64}, Matrix{Float64}}}:\n",
       " ([0.19351657783822243; 0.22930696408237494; 0.20288409426107812;;], [0.2392545801568525; 0.22670452085881018; … ; 0.055933087563364785; 0.017864414522312508;;])\n",
       " ([0.1752433693690013; 0.22840193081669627; 0.2151301968295177;;], [0.16920026590621223; 0.13669635879567676; … ; -0.00266464147595506; -0.0033037645447818124;;])\n",
       " ([0.21839584524752345; 0.21589876610453934; 0.1986140946938431;;], [0.2016736889024742; 0.20602529375696205; … ; -0.018805461879049523; 0.01180038910652247;;])\n",
       " ([0.2231129695913128; 0.18119148980376446; 0.21799287279499593;;], [0.20796009472079613; 0.19862125273419318; … ; 0.010902630161179745; -0.006907789620266048;;])\n",
       " ([0.15610849264343055; 0.22063568809679754; 0.18391852303230885;;], [0.19931768826667626; 0.1881787618137263; … ; -0.013156278842358229; 0.025006642674149517;;])\n",
       " ([0.17889007140498736; 0.19689881619387284; 0.16907635367412682;;], [0.19505710879780622; 0.19793566974389307; … ; -0.007274498735771472; -0.01664215012014203;;])"
      ]
     },
     "execution_count": 16,
     "metadata": {},
     "output_type": "execute_result"
    }
   ],
   "source": [
    "trends = [o[\"trends\"] for o in data]"
   ]
  },
  {
   "cell_type": "code",
   "execution_count": 17,
   "metadata": {},
   "outputs": [
    {
     "data": {
      "text/plain": [
       "6-element Vector{Matrix{Float64}}:\n",
       " [0.19351657783822243; 0.22930696408237494; 0.20288409426107812;;]\n",
       " [0.1752433693690013; 0.22840193081669627; 0.2151301968295177;;]\n",
       " [0.21839584524752345; 0.21589876610453934; 0.1986140946938431;;]\n",
       " [0.2231129695913128; 0.18119148980376446; 0.21799287279499593;;]\n",
       " [0.15610849264343055; 0.22063568809679754; 0.18391852303230885;;]\n",
       " [0.17889007140498736; 0.19689881619387284; 0.16907635367412682;;]"
      ]
     },
     "execution_count": 17,
     "metadata": {},
     "output_type": "execute_result"
    }
   ],
   "source": [
    "trend_m = [t[1] for t in trends]"
   ]
  },
  {
   "cell_type": "code",
   "execution_count": 19,
   "metadata": {},
   "outputs": [
    {
     "data": {
      "text/plain": [
       "6-element Vector{Matrix{Float64}}:\n",
       " [0.2392545801568525; 0.22670452085881018; … ; 0.055933087563364785; 0.017864414522312508;;]\n",
       " [0.16920026590621223; 0.13669635879567676; … ; -0.00266464147595506; -0.0033037645447818124;;]\n",
       " [0.2016736889024742; 0.20602529375696205; … ; -0.018805461879049523; 0.01180038910652247;;]\n",
       " [0.20796009472079613; 0.19862125273419318; … ; 0.010902630161179745; -0.006907789620266048;;]\n",
       " [0.19931768826667626; 0.1881787618137263; … ; -0.013156278842358229; 0.025006642674149517;;]\n",
       " [0.19505710879780622; 0.19793566974389307; … ; -0.007274498735771472; -0.01664215012014203;;]"
      ]
     },
     "execution_count": 19,
     "metadata": {},
     "output_type": "execute_result"
    }
   ],
   "source": [
    "trend_i = [t[2] for t in trends]"
   ]
  },
  {
   "cell_type": "code",
   "execution_count": 20,
   "metadata": {},
   "outputs": [
    {
     "data": {
      "text/plain": [
       "1257×1 Matrix{Float64}:\n",
       "  0.2392545801568525\n",
       "  0.22670452085881018\n",
       "  0.22180423289424897\n",
       "  0.19166921011470728\n",
       "  0.20082738444994874\n",
       "  0.2432418286951156\n",
       "  0.1579188313330508\n",
       "  0.20701375431721816\n",
       "  0.2046293513382422\n",
       "  0.17883782378671884\n",
       "  0.164860370706784\n",
       "  0.22378620811570513\n",
       "  0.21055535607294365\n",
       "  ⋮\n",
       "  0.016364270851709984\n",
       "  0.02658871281161211\n",
       " -0.001060348728165966\n",
       "  0.0005415003208704371\n",
       "  0.017539124176032185\n",
       "  0.059193471972050965\n",
       " -0.007534160330046644\n",
       " -0.01741670512371264\n",
       "  0.0007450697776720238\n",
       "  0.016902450361613572\n",
       "  0.055933087563364785\n",
       "  0.017864414522312508"
      ]
     },
     "execution_count": 20,
     "metadata": {},
     "output_type": "execute_result"
    }
   ],
   "source": [
    "trend_i[1]"
   ]
  },
  {
   "cell_type": "code",
   "execution_count": null,
   "metadata": {},
   "outputs": [],
   "source": []
  }
 ],
 "metadata": {
  "kernelspec": {
   "display_name": "Julia 1.10.3",
   "language": "julia",
   "name": "julia-1.10"
  },
  "language_info": {
   "file_extension": ".jl",
   "mimetype": "application/julia",
   "name": "julia",
   "version": "1.10.3"
  }
 },
 "nbformat": 4,
 "nbformat_minor": 2
}
