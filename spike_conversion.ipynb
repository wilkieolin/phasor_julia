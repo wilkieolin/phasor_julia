{
 "cells": [
  {
   "cell_type": "code",
   "execution_count": 1,
   "metadata": {},
   "outputs": [
    {
     "data": {
      "text/plain": [
       "train_to_phase (generic function with 1 method)"
      ]
     },
     "execution_count": 1,
     "metadata": {},
     "output_type": "execute_result"
    }
   ],
   "source": [
    "include(\"spiking.jl\")"
   ]
  },
  {
   "cell_type": "code",
   "execution_count": 2,
   "metadata": {},
   "outputs": [],
   "source": [
    "using Plots"
   ]
  },
  {
   "cell_type": "code",
   "execution_count": 3,
   "metadata": {},
   "outputs": [
    {
     "data": {
      "text/plain": [
       "128×100 Matrix{Float32}:\n",
       "  0.991597    0.426675   -0.362095   …  -0.957286    -0.22808    0.33551\n",
       " -0.0295937  -0.729119   -0.334633      -0.4139      -0.739517  -0.210165\n",
       "  0.26        0.336424   -0.55741        0.769932    -0.935535  -0.214242\n",
       " -0.227017   -0.616549    0.400911      -0.650808    -0.21947   -0.316521\n",
       " -0.0774051   0.534747    0.992922      -0.00634348  -0.745821  -0.42693\n",
       " -0.683507   -0.408102   -0.898305   …   0.449537    -0.572226   0.924955\n",
       " -0.261005   -0.510529   -0.581282       0.526836     0.248605   0.662258\n",
       "  0.668194   -0.873789   -0.862615      -0.620982     0.499545   0.031122\n",
       "  0.0461512  -0.64515     0.853326      -0.14        -0.194399   0.239467\n",
       " -0.128273    0.583601   -0.205623      -0.0859361    0.510574  -0.453733\n",
       "  0.873012   -0.411573   -0.117069   …   0.925442     0.839048  -0.95957\n",
       " -0.600245    0.27331     0.798557      -0.228938     0.513269   0.252239\n",
       " -0.983132    0.574857   -0.79492        0.537614    -0.480118   0.351033\n",
       "  ⋮                                  ⋱                          \n",
       "  0.308881    0.210431    0.854468      -0.622593    -0.784948   0.444812\n",
       "  0.0471832   0.584643    0.552099       0.856857    -0.66013   -0.681939\n",
       " -0.707006    0.088951   -0.62483        0.324584     0.511338  -0.0219814\n",
       "  0.0833089   0.819881    0.920915      -0.597338     0.66538   -0.32052\n",
       " -0.363449   -0.640074    0.223094   …   0.73417      0.866725   0.92617\n",
       "  0.086639   -0.287613    0.299318       0.684336     0.467606  -0.545673\n",
       " -0.671108   -0.386244    0.576163       0.256816    -0.546281   0.404235\n",
       " -0.778565    0.0965205   0.916054      -0.109342    -0.621774   0.529866\n",
       "  0.528022   -0.402859   -0.425211       0.331206    -0.719551  -0.00578344\n",
       " -0.369217   -0.133853   -0.48012    …  -0.595258    -0.562278  -0.524265\n",
       "  0.940975    0.172427    0.522655       0.572075    -0.399979   0.557393\n",
       "  0.308368   -0.296782    0.0995046     -0.902339     0.773259   0.730703"
      ]
     },
     "execution_count": 3,
     "metadata": {},
     "output_type": "execute_result"
    }
   ],
   "source": [
    "phase = rand(Float32, 128, 100) .* 2 .- 1"
   ]
  },
  {
   "cell_type": "code",
   "execution_count": 10,
   "metadata": {},
   "outputs": [
    {
     "data": {
      "text/plain": [
       "SpikingArgs(6.283185307179586, -0.2, 1.0, 0.03, 0.05)"
      ]
     },
     "execution_count": 10,
     "metadata": {},
     "output_type": "execute_result"
    }
   ],
   "source": [
    "spk_args = default_spk_args()"
   ]
  },
  {
   "cell_type": "code",
   "execution_count": 20,
   "metadata": {},
   "outputs": [
    {
     "data": {
      "text/plain": [
       "phase_to_train (generic function with 3 methods)"
      ]
     },
     "execution_count": 20,
     "metadata": {},
     "output_type": "execute_result"
    }
   ],
   "source": [
    "function phase_to_train(phases::AbstractMatrix, spk_args::SpikingArgs, repeats::Int = 1, offset::Real = 0.0)\n",
    "    t_phase0 = spk_args.t_period / 2.0\n",
    "    shape = phases |> size\n",
    "    indices = collect(CartesianIndices(shape)) |> vec\n",
    "    times = phases .* t_phase0 .+ t_phase0 |> vec\n",
    "\n",
    "    if repeats > 1\n",
    "        n_t = times |> length\n",
    "        offsets = repeat(0:repeats-1, inner=n_t)\n",
    "        times = repeat(times, repeats) .+ offsets\n",
    "        indices = repeat(indices, repeats)\n",
    "    end\n",
    "\n",
    "    train = SpikeTrain(indices, times, shape, offset)\n",
    "    return train\n",
    "end"
   ]
  },
  {
   "cell_type": "code",
   "execution_count": 28,
   "metadata": {},
   "outputs": [
    {
     "data": {
      "text/plain": [
       "SpikeTrain(CartesianIndex{2}[CartesianIndex(1, 1), CartesianIndex(2, 1), CartesianIndex(3, 1), CartesianIndex(4, 1), CartesianIndex(5, 1), CartesianIndex(6, 1), CartesianIndex(7, 1), CartesianIndex(8, 1), CartesianIndex(9, 1), CartesianIndex(10, 1)  …  CartesianIndex(119, 100), CartesianIndex(120, 100), CartesianIndex(121, 100), CartesianIndex(122, 100), CartesianIndex(123, 100), CartesianIndex(124, 100), CartesianIndex(125, 100), CartesianIndex(126, 100), CartesianIndex(127, 100), CartesianIndex(128, 100)], [0.995798647403717, 0.4852031469345093, 0.6299999356269836, 0.38649141788482666, 0.4612974524497986, 0.15824639797210693, 0.3694975972175598, 0.8340970277786255, 0.5230755805969238, 0.435863733291626  …  1.4890093207359314, 1.3397400975227356, 1.963085114955902, 1.227163314819336, 1.702117681503296, 1.7649328708648682, 1.497108280658722, 1.2378676533699036, 1.7786964178085327, 1.8653514981269836], (128, 100), 0.0)"
      ]
     },
     "execution_count": 28,
     "metadata": {},
     "output_type": "execute_result"
    }
   ],
   "source": [
    "st = phase_to_train(phase, spk_args, 2, 0.0)"
   ]
  },
  {
   "cell_type": "code",
   "execution_count": 29,
   "metadata": {},
   "outputs": [
    {
     "data": {
      "text/plain": [
       "2×128×100 Array{Float64, 3}:\n",
       "[:, :, 1] =\n",
       " 0.991597  -0.0295937  0.26  -0.227017  …  -0.369217  0.940975  0.308368\n",
       " 0.991597  -0.0295937  0.26  -0.227017     -0.369217  0.940975  0.308368\n",
       "\n",
       "[:, :, 2] =\n",
       " 0.426675  -0.729119  0.336424  -0.616549  …  -0.133853  0.172427  -0.296782\n",
       " 0.426675  -0.729119  0.336424  -0.616549     -0.133853  0.172427  -0.296782\n",
       "\n",
       "[:, :, 3] =\n",
       " -0.362095  -0.334633  -0.55741  0.400911  …  -0.48012  0.522655  0.0995046\n",
       " -0.362095  -0.334633  -0.55741  0.400911     -0.48012  0.522655  0.0995046\n",
       "\n",
       ";;; … \n",
       "\n",
       "[:, :, 98] =\n",
       " -0.957286  -0.4139  0.769932  -0.650808  …  -0.595258  0.572075  -0.902339\n",
       " -0.957286  -0.4139  0.769932  -0.650808     -0.595258  0.572075  -0.902339\n",
       "\n",
       "[:, :, 99] =\n",
       " -0.22808  -0.739517  -0.935535  -0.21947  …  -0.562278  -0.399979  0.773259\n",
       " -0.22808  -0.739517  -0.935535  -0.21947     -0.562278  -0.399979  0.773259\n",
       "\n",
       "[:, :, 100] =\n",
       " 0.33551  -0.210165  -0.214242  -0.316521  …  -0.524265  0.557393  0.730703\n",
       " 0.33551  -0.210165  -0.214242  -0.316521     -0.524265  0.557393  0.730703"
      ]
     },
     "execution_count": 29,
     "metadata": {},
     "output_type": "execute_result"
    }
   ],
   "source": [
    "c = train_to_phase(st, spk_args)"
   ]
  },
  {
   "cell_type": "code",
   "execution_count": 31,
   "metadata": {},
   "outputs": [
    {
     "data": {
      "text/plain": [
       "128×100 BitMatrix:\n",
       " 1  1  1  1  1  1  1  1  1  1  1  1  1  …  1  1  1  1  1  1  1  1  1  1  1  1\n",
       " 1  1  1  1  1  1  1  1  1  1  1  1  1     1  1  1  1  1  1  1  1  1  1  1  1\n",
       " 1  1  1  1  1  1  1  1  1  1  1  1  1     1  1  1  1  1  1  1  1  1  1  1  1\n",
       " 1  1  1  1  1  1  1  1  1  1  1  1  1     1  1  1  1  1  1  1  1  1  1  1  1\n",
       " 1  1  1  1  1  1  1  1  1  1  1  1  1     1  1  1  1  1  1  1  1  1  1  1  1\n",
       " 1  1  1  1  1  1  1  1  1  1  1  1  1  …  1  1  1  1  1  1  1  1  1  1  1  1\n",
       " 1  1  1  1  1  1  1  1  1  1  1  1  1     1  1  1  1  1  1  1  1  1  1  1  1\n",
       " 1  1  1  1  1  1  1  1  1  1  1  1  1     1  1  1  1  1  1  1  1  1  1  1  1\n",
       " 1  1  1  1  1  1  1  1  1  1  1  1  1     1  1  1  1  1  1  1  1  1  1  1  1\n",
       " 1  1  1  1  1  1  1  1  1  1  1  1  1     1  1  1  1  1  1  1  1  1  1  1  1\n",
       " 1  1  1  1  1  1  1  1  1  1  1  1  1  …  1  1  1  1  1  1  1  1  1  1  1  1\n",
       " 1  1  1  1  1  1  1  1  1  1  1  1  1     1  1  1  1  1  1  1  1  1  1  1  1\n",
       " 1  1  1  1  1  1  1  1  1  1  1  1  1     1  1  1  1  1  1  1  1  1  1  1  1\n",
       " ⋮              ⋮              ⋮        ⋱        ⋮              ⋮           \n",
       " 1  1  1  1  1  1  1  1  1  1  1  1  1     1  1  1  1  1  1  1  1  1  1  1  1\n",
       " 1  1  1  1  1  1  1  1  1  1  1  1  1     1  1  1  1  1  1  1  1  1  1  1  1\n",
       " 1  1  1  1  1  1  1  1  1  1  1  1  1     1  1  1  1  1  1  1  1  1  1  1  1\n",
       " 1  1  1  1  1  1  1  1  1  1  1  1  1     1  1  1  1  1  1  1  1  1  1  1  1\n",
       " 1  1  1  1  1  1  1  1  1  1  1  1  1  …  1  1  1  1  1  1  1  1  1  1  1  1\n",
       " 1  1  1  1  1  1  1  1  1  1  1  1  1     1  1  1  1  1  1  1  1  1  1  1  1\n",
       " 1  1  1  1  1  1  1  1  1  1  1  1  1     1  1  1  1  1  1  1  1  1  1  1  1\n",
       " 1  1  1  1  1  1  1  1  1  1  1  1  1     1  1  1  1  1  1  1  1  1  1  1  1\n",
       " 1  1  1  1  1  1  1  1  1  1  1  1  1     1  1  1  1  1  1  1  1  1  1  1  1\n",
       " 1  1  1  1  1  1  1  1  1  1  1  1  1  …  1  1  1  1  1  1  1  1  1  1  1  1\n",
       " 1  1  1  1  1  1  1  1  1  1  1  1  1     1  1  1  1  1  1  1  1  1  1  1  1\n",
       " 1  1  1  1  1  1  1  1  1  1  1  1  1     1  1  1  1  1  1  1  1  1  1  1  1"
      ]
     },
     "execution_count": 31,
     "metadata": {},
     "output_type": "execute_result"
    }
   ],
   "source": [
    "c[1,:,:] .== c[2,:,:]"
   ]
  },
  {
   "cell_type": "code",
   "execution_count": 32,
   "metadata": {},
   "outputs": [
    {
     "data": {
      "text/plain": [
       "128×100 BitMatrix:\n",
       " 1  1  1  1  1  1  1  1  1  1  1  1  1  …  1  1  1  1  1  1  1  1  1  1  1  1\n",
       " 1  1  1  1  1  1  1  1  1  1  1  1  1     1  1  1  1  1  1  1  1  1  1  1  1\n",
       " 1  1  1  1  1  1  1  1  1  1  1  1  1     1  1  1  1  1  1  1  1  1  1  1  1\n",
       " 1  1  1  1  1  1  1  1  1  1  1  1  1     1  1  1  1  1  1  1  1  1  1  1  1\n",
       " 1  1  1  1  1  1  1  1  1  1  1  1  1     1  1  1  1  1  1  1  1  1  1  1  1\n",
       " 1  1  1  1  1  1  1  1  1  1  1  1  1  …  1  1  1  1  1  1  1  1  1  1  1  1\n",
       " 1  1  1  1  1  1  1  1  1  1  1  1  1     1  1  1  1  1  1  1  1  1  1  1  1\n",
       " 1  1  1  1  1  1  1  1  1  1  1  1  1     1  1  1  1  1  1  1  1  1  1  1  1\n",
       " 1  1  1  1  1  1  1  1  1  1  1  1  1     1  1  1  1  1  1  1  1  1  1  1  1\n",
       " 1  1  1  1  1  1  1  1  1  1  1  1  1     1  1  1  1  1  1  1  1  1  1  1  1\n",
       " 1  1  1  1  1  1  1  1  1  1  1  1  1  …  1  1  1  1  1  1  1  1  1  1  1  1\n",
       " 1  1  1  1  1  1  1  1  1  1  1  1  1     1  1  1  1  1  1  1  1  1  1  1  1\n",
       " 1  1  1  1  1  1  1  1  1  1  1  1  1     1  1  1  1  1  1  1  1  1  1  1  1\n",
       " ⋮              ⋮              ⋮        ⋱        ⋮              ⋮           \n",
       " 1  1  1  1  1  1  1  1  1  1  1  1  1     1  1  1  1  1  1  1  1  1  1  1  1\n",
       " 1  1  1  1  1  1  1  1  1  1  1  1  1     1  1  1  1  1  1  1  1  1  1  1  1\n",
       " 1  1  1  1  1  1  1  1  1  1  1  1  1     1  1  1  1  1  1  1  1  1  1  1  1\n",
       " 1  1  1  1  1  1  1  1  1  1  1  1  1     1  1  1  1  1  1  1  1  1  1  1  1\n",
       " 1  1  1  1  1  1  1  1  1  1  1  1  1  …  1  1  1  1  1  1  1  1  1  1  1  1\n",
       " 1  1  1  1  1  1  1  1  1  1  1  1  1     1  1  1  1  1  1  1  1  1  1  1  1\n",
       " 1  1  1  1  1  1  1  1  1  1  1  1  1     1  1  1  1  1  1  1  1  1  1  1  1\n",
       " 1  1  1  1  1  1  1  1  1  1  1  1  1     1  1  1  1  1  1  1  1  1  1  1  1\n",
       " 1  1  1  1  1  1  1  1  1  1  1  1  1     1  1  1  1  1  1  1  1  1  1  1  1\n",
       " 1  1  1  1  1  1  1  1  1  1  1  1  1  …  1  1  1  1  1  1  1  1  1  1  1  1\n",
       " 1  1  1  1  1  1  1  1  1  1  1  1  1     1  1  1  1  1  1  1  1  1  1  1  1\n",
       " 1  1  1  1  1  1  1  1  1  1  1  1  1     1  1  1  1  1  1  1  1  1  1  1  1"
      ]
     },
     "execution_count": 32,
     "metadata": {},
     "output_type": "execute_result"
    }
   ],
   "source": [
    "phase .== c[1,:,:]"
   ]
  },
  {
   "cell_type": "code",
   "execution_count": null,
   "metadata": {},
   "outputs": [],
   "source": []
  },
  {
   "cell_type": "code",
   "execution_count": null,
   "metadata": {},
   "outputs": [
    {
     "data": {
      "text/plain": [
       "train_to_phase (generic function with 2 methods)"
      ]
     },
     "metadata": {},
     "output_type": "display_data"
    }
   ],
   "source": [
    "function time_to_phase(times::AbstractVecOrMat, period::Real, offset::Real)\n",
    "    times = (times .- offset) .% period\n",
    "    times = (times .- 0.5) .* 2.0\n",
    "    return times\n",
    "end\n",
    "\n",
    "function train_to_phase(train::SpikeTrain, spk_args::SpikingArgs)\n",
    "    if length(train.times) == 0\n",
    "        return missing\n",
    "    end\n",
    "\n",
    "    phases_vec = time_to_phase(train.times, spk_args.t_period, train.offset)\n",
    "    n_cycles = maximum(train.times) ÷ spk_args.t_period + 1\n",
    "    cycle = floor.(Int, train.times .÷ spk_args.t_period .+ 1)\n",
    "    phases = [NaN .* zeros(train.shape...) for i in 1:n_cycles]\n",
    "\n",
    "    for i in eachindex(phases_vec)\n",
    "        phases[cycle[i]][train.indices[i]] = phases_vec[i]\n",
    "    end\n",
    "\n",
    "    #stack the arrays\n",
    "    phases = mapreduce(x->reshape(x, 1, st.shape...), vcat, phases)\n",
    "    phases = permutedims(phases, (2, 3, 1))\n",
    "    return phases\n",
    "\n",
    "end"
   ]
  }
 ],
 "metadata": {
  "kernelspec": {
   "display_name": "Julia 1.8.1",
   "language": "julia",
   "name": "julia-1.8"
  },
  "language_info": {
   "file_extension": ".jl",
   "mimetype": "application/julia",
   "name": "julia",
   "version": "1.8.1"
  },
  "orig_nbformat": 4
 },
 "nbformat": 4,
 "nbformat_minor": 2
}
