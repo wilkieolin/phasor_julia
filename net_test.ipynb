{
 "cells": [
  {
   "cell_type": "code",
   "execution_count": 1,
   "metadata": {},
   "outputs": [],
   "source": [
    "using Flux, Statistics\n",
    "using Flux.Data: DataLoader\n",
    "using Flux: onehotbatch, onecold, @epochs\n",
    "using Flux.Losses: logitcrossentropy\n",
    "using Base: @kwdef\n",
    "using MLDatasets"
   ]
  },
  {
   "cell_type": "code",
   "execution_count": 2,
   "metadata": {},
   "outputs": [],
   "source": [
    "include(\"network.jl\")"
   ]
  },
  {
   "cell_type": "code",
   "execution_count": 3,
   "metadata": {},
   "outputs": [
    {
     "data": {
      "text/plain": [
       "Chain(\n",
       "  PhasorDense(1024 => 32),              \u001b[90m# 32_800 parameters\u001b[39m\n",
       ") "
      ]
     },
     "metadata": {},
     "output_type": "display_data"
    }
   ],
   "source": [
    "model = Chain(PhasorDense(1024 => 32), )"
   ]
  },
  {
   "cell_type": "code",
   "execution_count": 4,
   "metadata": {},
   "outputs": [
    {
     "data": {
      "text/plain": [
       "100×1024 Matrix{Float32}:\n",
       " 0.925288   0.108457  0.341305    …  0.853123   0.820373    0.17382\n",
       " 0.504352   0.98407   0.094907       0.453549   0.725726    0.965713\n",
       " 0.759225   0.139443  0.435339       0.42683    0.520653    0.340711\n",
       " 0.130162   0.656978  0.47056        0.0442799  0.569047    0.994109\n",
       " 0.548466   0.27578   0.459192       0.684469   0.00468349  0.116094\n",
       " 0.0923626  0.794069  0.232205    …  0.979701   0.392621    0.779744\n",
       " 0.554211   0.264362  0.880811       0.159541   0.0383127   0.589179\n",
       " 0.731584   0.865006  0.631056       0.348675   0.351941    0.812073\n",
       " 0.433085   0.531436  0.816776       0.0504389  0.650845    0.922108\n",
       " 0.929529   0.613534  0.569513       0.337689   0.740842    0.747886\n",
       " ⋮                                ⋱                         \n",
       " 0.734427   0.76371   0.217499       0.443477   0.574695    0.811415\n",
       " 0.50772    0.279193  0.531405       0.749589   0.610571    0.556621\n",
       " 0.963155   0.144494  0.138454       0.875519   0.383271    0.847026\n",
       " 0.186271   0.644478  0.255722       0.0143969  0.810118    0.476507\n",
       " 0.721639   0.952337  0.453411    …  0.246322   0.421769    0.563744\n",
       " 0.49834    0.255625  0.459538       0.188032   0.0931241   0.531231\n",
       " 0.932265   0.621088  0.450954       0.989251   0.168362    0.762249\n",
       " 0.661934   0.92239   0.465885       0.14928    0.650409    0.184371\n",
       " 0.455086   0.814803  0.00313652     0.350753   0.463948    0.748733"
      ]
     },
     "metadata": {},
     "output_type": "display_data"
    }
   ],
   "source": [
    "x = rand(Float32, (100,1024))"
   ]
  },
  {
   "cell_type": "code",
   "execution_count": 6,
   "metadata": {},
   "outputs": [
    {
     "data": {
      "text/plain": [
       "32×100 Matrix{Float32}:\n",
       "  0.155844    0.460217     0.609756    0.105603   …   0.193041    0.380222\n",
       "  0.13067     0.308425     0.307364    0.359068       0.0420887   0.206883\n",
       " -0.0984334  -0.0242903   -0.0783415  -0.0675861     -0.447385   -0.0389762\n",
       "  0.260787    0.0565158    0.251534    0.0671619      0.434234    0.390445\n",
       " -0.119823   -0.305864    -0.252228   -0.477746      -0.154085   -0.410489\n",
       " -0.0277456  -0.0224878    0.967001   -0.0543603  …  -0.0512968  -0.110567\n",
       " -0.149122   -0.289121    -0.318532   -0.291899      -0.487773   -0.182133\n",
       "  0.0150925   0.0544917   -0.968777   -0.11531       -0.691972   -0.0832553\n",
       "  0.0291548  -0.00322209  -0.0323095  -0.095149       0.143281   -0.00989137\n",
       " -0.152712   -0.127306    -0.358995   -0.430293      -0.595595   -0.249941\n",
       "  ⋮                                               ⋱              \n",
       " -0.0239342  -0.485031    -0.301891   -0.0265877     -0.609      -0.936667\n",
       " -0.368672   -0.140288     0.589247   -0.189201      -0.311254   -0.0609867\n",
       "  0.589499    0.231935     0.450933    0.294076   …   0.432585    0.319665\n",
       " -0.457542   -0.395744    -0.297279   -0.191252      -0.348221   -0.346863\n",
       " -0.337304   -0.169318    -0.183528   -0.0471718     -0.867792   -0.50277\n",
       " -0.268742   -0.803631     0.14759     0.0135632      0.296413    0.422624\n",
       " -0.0266495   0.056953    -0.170595   -0.165193      -0.0854281  -0.281526\n",
       "  0.325741    0.0998843    0.127525    0.244063   …   0.473725    0.113097\n",
       "  0.251748    0.0669955    0.374705    0.53213        0.459436    0.0547335"
      ]
     },
     "metadata": {},
     "output_type": "display_data"
    }
   ],
   "source": [
    "y = model(x)"
   ]
  },
  {
   "cell_type": "code",
   "execution_count": 11,
   "metadata": {},
   "outputs": [
    {
     "data": {
      "text/plain": [
       "-0.99170715f0"
      ]
     },
     "metadata": {},
     "output_type": "display_data"
    }
   ],
   "source": [
    "minimum(y)"
   ]
  },
  {
   "cell_type": "code",
   "execution_count": 13,
   "metadata": {},
   "outputs": [
    {
     "data": {
      "text/plain": [
       "-0.035180368f0"
      ]
     },
     "metadata": {},
     "output_type": "display_data"
    }
   ],
   "source": [
    "mean(y)"
   ]
  },
  {
   "cell_type": "code",
   "execution_count": 12,
   "metadata": {},
   "outputs": [
    {
     "data": {
      "text/plain": [
       "0.99845666f0"
      ]
     },
     "metadata": {},
     "output_type": "display_data"
    }
   ],
   "source": [
    "maximum(y)"
   ]
  },
  {
   "cell_type": "code",
   "execution_count": 2,
   "metadata": {},
   "outputs": [
    {
     "data": {
      "text/plain": [
       "getdata (generic function with 1 method)"
      ]
     },
     "metadata": {},
     "output_type": "display_data"
    }
   ],
   "source": [
    "function getdata(args)\n",
    "    ENV[\"DATADEPS_ALWAYS_ACCEPT\"] = \"true\"\n",
    "\n",
    "    @info \"Getting and transforming data\"\n",
    "\n",
    "    ## Load dataset\n",
    "    xtrain, ytrain = MLDatasets.MNIST(:train)[:]\n",
    "    xtest, ytest = MLDatasets.MNIST(:test)[:]\n",
    "\n",
    "    ## Reshape input data to flatten each image into a linear array\n",
    "    xtrain = Flux.flatten(xtrain)\n",
    "    xtest = Flux.flatten(xtest)\n",
    "\n",
    "    ## One-hot-encode the labels\n",
    "    ytrain, ytest = onehotbatch(ytrain, 0:9), onehotbatch(ytest, 0:9)\n",
    "\n",
    "    ## Create two DataLoader objects (mini-batch iterators)\n",
    "    train_loader = DataLoader((xtrain, ytrain), batchsize=args.batchsize, shuffle=true)\n",
    "    test_loader = DataLoader((xtest, ytest), batchsize=args.batchsize)\n",
    "\n",
    "    return train_loader, test_loader\n",
    "end"
   ]
  },
  {
   "cell_type": "code",
   "execution_count": null,
   "metadata": {},
   "outputs": [],
   "source": []
  },
  {
   "cell_type": "code",
   "execution_count": null,
   "metadata": {},
   "outputs": [],
   "source": [
    "layer = "
   ]
  },
  {
   "cell_type": "code",
   "execution_count": null,
   "metadata": {},
   "outputs": [],
   "source": [
    "function build_model(; imgsize=(28,28,1), nclasses=10)\n",
    "    return Chain( Dense(prod(imgsize), 32, relu),\n",
    "                  Dense(32, nclasses))\n",
    "end"
   ]
  }
 ],
 "metadata": {
  "kernelspec": {
   "display_name": "Julia 1.8.1",
   "language": "julia",
   "name": "julia-1.8"
  },
  "language_info": {
   "file_extension": ".jl",
   "mimetype": "application/julia",
   "name": "julia",
   "version": "1.8.1"
  },
  "orig_nbformat": 4
 },
 "nbformat": 4,
 "nbformat_minor": 2
}
