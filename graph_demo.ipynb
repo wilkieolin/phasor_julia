{
 "cells": [
  {
   "cell_type": "code",
   "execution_count": 1,
   "metadata": {},
   "outputs": [
    {
     "name": "stderr",
     "output_type": "stream",
     "text": [
      "\u001b[32m\u001b[1m  Activating\u001b[22m\u001b[39m project at `~/code/phasor_julia`\n"
     ]
    }
   ],
   "source": [
    "using Pkg\n",
    "Pkg.activate(\".\")"
   ]
  },
  {
   "cell_type": "code",
   "execution_count": 2,
   "metadata": {},
   "outputs": [
    {
     "name": "stderr",
     "output_type": "stream",
     "text": [
      "┌ Warning: Replacing docs for `Main.PhasorNetworks.phase_to_potential :: Tuple{Real, AbstractVector, Real, Main.PhasorNetworks.SpikingArgs}` in module `Main.PhasorNetworks`\n",
      "└ @ Base.Docs docs/Docs.jl:243\n",
      "┌ Warning: Replacing docs for `Main.PhasorNetworks.potential_to_phase :: Tuple{AbstractArray, Real, Real, Main.PhasorNetworks.SpikingArgs}` in module `Main.PhasorNetworks`\n",
      "└ @ Base.Docs docs/Docs.jl:243\n",
      "┌ Warning: Replacing docs for `Main.PhasorNetworks.phase_to_train :: Tuple{AbstractArray, Main.PhasorNetworks.SpikingArgs}` in module `Main.PhasorNetworks`\n",
      "└ @ Base.Docs docs/Docs.jl:243\n",
      "┌ Warning: Replacing docs for `Main.PhasorNetworks.phase_to_potential :: Tuple{Real, AbstractVector, Real, Main.PhasorNetworks.SpikingArgs}` in module `Main.PhasorNetworks`\n",
      "└ @ Base.Docs docs/Docs.jl:243\n"
     ]
    },
    {
     "name": "stderr",
     "output_type": "stream",
     "text": [
      "┌ Warning: Replacing docs for `Main.PhasorNetworks.potential_to_phase :: Tuple{AbstractArray, Real, Real, Main.PhasorNetworks.SpikingArgs}` in module `Main.PhasorNetworks`\n",
      "└ @ Base.Docs docs/Docs.jl:243\n",
      "┌ Warning: Replacing docs for `Main.PhasorNetworks.phase_to_train :: Tuple{AbstractArray, Main.PhasorNetworks.SpikingArgs}` in module `Main.PhasorNetworks`\n",
      "└ @ Base.Docs docs/Docs.jl:243\n",
      "┌ Warning: Replacing docs for `Main.PhasorNetworks.phase_to_potential :: Tuple{Real, AbstractVector, Real, Main.PhasorNetworks.SpikingArgs}` in module `Main.PhasorNetworks`\n",
      "└ @ Base.Docs docs/Docs.jl:243\n",
      "┌ Warning: Replacing docs for `Main.PhasorNetworks.potential_to_phase :: Tuple{AbstractArray, Real, Real, Main.PhasorNetworks.SpikingArgs}` in module `Main.PhasorNetworks`\n",
      "└ @ Base.Docs docs/Docs.jl:243\n",
      "┌ Warning: Replacing docs for `Main.PhasorNetworks.phase_to_train :: Tuple{AbstractArray, Main.PhasorNetworks.SpikingArgs}` in module `Main.PhasorNetworks`\n",
      "└ @ Base.Docs docs/Docs.jl:243\n"
     ]
    }
   ],
   "source": [
    "include(\"module.jl\")\n",
    "using .PhasorNetworks"
   ]
  },
  {
   "cell_type": "code",
   "execution_count": null,
   "metadata": {},
   "outputs": [],
   "source": []
  }
 ],
 "metadata": {
  "kernelspec": {
   "display_name": "Julia 1.9.0",
   "language": "julia",
   "name": "julia-1.9"
  },
  "language_info": {
   "file_extension": ".jl",
   "mimetype": "application/julia",
   "name": "julia",
   "version": "1.9.0"
  },
  "orig_nbformat": 4
 },
 "nbformat": 4,
 "nbformat_minor": 2
}
