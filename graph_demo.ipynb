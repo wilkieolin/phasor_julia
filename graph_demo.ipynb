{
 "cells": [
  {
   "cell_type": "code",
   "execution_count": 1,
   "metadata": {},
   "outputs": [
    {
     "name": "stderr",
     "output_type": "stream",
     "text": [
      "\u001b[32m\u001b[1m  Activating\u001b[22m\u001b[39m project at `~/code/phasor_julia`\n"
     ]
    }
   ],
   "source": [
    "using Pkg\n",
    "Pkg.activate(\".\")"
   ]
  },
  {
   "cell_type": "code",
   "execution_count": 2,
   "metadata": {},
   "outputs": [
    {
     "name": "stderr",
     "output_type": "stream",
     "text": [
      "┌ Warning: Replacing docs for `Main.PhasorNetworks.phase_to_potential :: Tuple{Real, AbstractVector, Real, Main.PhasorNetworks.SpikingArgs}` in module `Main.PhasorNetworks`\n",
      "└ @ Base.Docs docs/Docs.jl:243\n",
      "┌ Warning: Replacing docs for `Main.PhasorNetworks.potential_to_phase :: Tuple{AbstractArray, Real, Real, Main.PhasorNetworks.SpikingArgs}` in module `Main.PhasorNetworks`\n",
      "└ @ Base.Docs docs/Docs.jl:243\n",
      "┌ Warning: Replacing docs for `Main.PhasorNetworks.phase_to_train :: Tuple{AbstractArray, Main.PhasorNetworks.SpikingArgs}` in module `Main.PhasorNetworks`\n",
      "└ @ Base.Docs docs/Docs.jl:243\n",
      "┌ Warning: Replacing docs for `Main.PhasorNetworks.phase_to_potential :: Tuple{Real, AbstractVector, Real, Main.PhasorNetworks.SpikingArgs}` in module `Main.PhasorNetworks`\n",
      "└ @ Base.Docs docs/Docs.jl:243\n"
     ]
    },
    {
     "name": "stderr",
     "output_type": "stream",
     "text": [
      "┌ Warning: Replacing docs for `Main.PhasorNetworks.potential_to_phase :: Tuple{AbstractArray, Real, Real, Main.PhasorNetworks.SpikingArgs}` in module `Main.PhasorNetworks`\n",
      "└ @ Base.Docs docs/Docs.jl:243\n",
      "┌ Warning: Replacing docs for `Main.PhasorNetworks.phase_to_train :: Tuple{AbstractArray, Main.PhasorNetworks.SpikingArgs}` in module `Main.PhasorNetworks`\n",
      "└ @ Base.Docs docs/Docs.jl:243\n",
      "┌ Warning: Replacing docs for `Main.PhasorNetworks.phase_to_potential :: Tuple{Real, AbstractVector, Real, Main.PhasorNetworks.SpikingArgs}` in module `Main.PhasorNetworks`\n",
      "└ @ Base.Docs docs/Docs.jl:243\n",
      "┌ Warning: Replacing docs for `Main.PhasorNetworks.potential_to_phase :: Tuple{AbstractArray, Real, Real, Main.PhasorNetworks.SpikingArgs}` in module `Main.PhasorNetworks`\n",
      "└ @ Base.Docs docs/Docs.jl:243\n",
      "┌ Warning: Replacing docs for `Main.PhasorNetworks.phase_to_train :: Tuple{AbstractArray, Main.PhasorNetworks.SpikingArgs}` in module `Main.PhasorNetworks`\n",
      "└ @ Base.Docs docs/Docs.jl:243\n"
     ]
    }
   ],
   "source": [
    "include(\"module.jl\")\n",
    "using .PhasorNetworks"
   ]
  },
  {
   "cell_type": "code",
   "execution_count": 46,
   "metadata": {},
   "outputs": [],
   "source": [
    "using LinearAlgebra: triu, diagm"
   ]
  },
  {
   "cell_type": "code",
   "execution_count": 66,
   "metadata": {},
   "outputs": [],
   "source": [
    "using Statistics: std"
   ]
  },
  {
   "cell_type": "code",
   "execution_count": 67,
   "metadata": {},
   "outputs": [
    {
     "data": {
      "text/plain": [
       "chance_level (generic function with 1 method)"
      ]
     },
     "metadata": {},
     "output_type": "display_data"
    }
   ],
   "source": [
    "function chance_level(nd::Int, samples::Int)\n",
    "    symbol_0 = random_symbols((1, nd))\n",
    "    symbols = random_symbols((samples, nd))\n",
    "    sim = similarity_outer(symbol_0, symbols, 1) |> vec\n",
    "    dev = std(sim)\n",
    "\n",
    "    return dev\n",
    "end"
   ]
  },
  {
   "cell_type": "code",
   "execution_count": 68,
   "metadata": {},
   "outputs": [
    {
     "data": {
      "text/plain": [
       "0.02015479191116637"
      ]
     },
     "metadata": {},
     "output_type": "display_data"
    }
   ],
   "source": [
    "chance_level(1024, 200)"
   ]
  },
  {
   "cell_type": "code",
   "execution_count": 24,
   "metadata": {},
   "outputs": [
    {
     "data": {
      "text/plain": [
       "generate_er_graph (generic function with 2 methods)"
      ]
     },
     "metadata": {},
     "output_type": "display_data"
    }
   ],
   "source": [
    "function generate_er_graph(n::Int, p::Real, self_loops::Bool = true)\n",
    "    adj = rand(Float64, (n, n)) .< p\n",
    "    #make undirected\n",
    "    adj = triu(adj)\n",
    "    adj =  (adj .+ adj') .> 0\n",
    "\n",
    "    if !self_loops\n",
    "        #remove self-loops\n",
    "        for i in 1:n\n",
    "            adj[i,i] = 0\n",
    "        end\n",
    "    end\n",
    "\n",
    "    return adj\n",
    "end"
   ]
  },
  {
   "cell_type": "code",
   "execution_count": 25,
   "metadata": {},
   "outputs": [
    {
     "data": {
      "text/plain": [
       "20×20 BitMatrix:\n",
       " 1  0  0  0  0  0  0  0  0  0  0  0  0  0  0  0  0  0  0  0\n",
       " 0  0  0  0  0  0  0  1  0  1  0  0  0  0  0  0  0  0  0  0\n",
       " 0  0  0  0  0  0  0  0  0  1  0  0  1  0  0  0  0  1  0  0\n",
       " 0  0  0  0  1  0  0  1  0  0  0  0  0  0  0  0  0  0  0  0\n",
       " 0  0  0  1  0  1  0  1  1  1  0  0  1  1  0  0  1  0  0  0\n",
       " 0  0  0  0  1  0  0  0  0  0  1  1  0  0  0  0  0  0  0  0\n",
       " 0  0  0  0  0  0  0  0  0  0  0  0  0  0  0  1  0  1  0  0\n",
       " 0  1  0  1  1  0  0  0  0  0  0  0  0  0  0  1  0  1  0  0\n",
       " 0  0  0  0  1  0  0  0  1  0  0  0  0  0  0  0  0  0  0  0\n",
       " 0  1  1  0  1  0  0  0  0  0  0  0  0  0  0  0  0  0  0  0\n",
       " 0  0  0  0  0  1  0  0  0  0  0  0  0  0  0  0  0  1  0  0\n",
       " 0  0  0  0  0  1  0  0  0  0  0  0  0  0  0  0  0  0  0  0\n",
       " 0  0  1  0  1  0  0  0  0  0  0  0  0  1  0  0  0  0  0  0\n",
       " 0  0  0  0  1  0  0  0  0  0  0  0  1  1  0  0  0  0  0  0\n",
       " 0  0  0  0  0  0  0  0  0  0  0  0  0  0  0  1  0  0  0  0\n",
       " 0  0  0  0  0  0  1  1  0  0  0  0  0  0  1  0  0  0  0  0\n",
       " 0  0  0  0  1  0  0  0  0  0  0  0  0  0  0  0  0  0  0  0\n",
       " 0  0  1  0  0  0  1  1  0  0  1  0  0  0  0  0  0  0  0  0\n",
       " 0  0  0  0  0  0  0  0  0  0  0  0  0  0  0  0  0  0  0  0\n",
       " 0  0  0  0  0  0  0  0  0  0  0  0  0  0  0  0  0  0  0  0"
      ]
     },
     "metadata": {},
     "output_type": "display_data"
    }
   ],
   "source": [
    "g1 = generate_er_graph(20, 0.1)"
   ]
  },
  {
   "cell_type": "code",
   "execution_count": 26,
   "metadata": {},
   "outputs": [
    {
     "data": {
      "text/plain": [
       "49-element Vector{CartesianIndex{2}}:\n",
       " CartesianIndex(1, 1)\n",
       " CartesianIndex(8, 2)\n",
       " CartesianIndex(10, 2)\n",
       " CartesianIndex(10, 3)\n",
       " CartesianIndex(13, 3)\n",
       " CartesianIndex(18, 3)\n",
       " CartesianIndex(5, 4)\n",
       " CartesianIndex(8, 4)\n",
       " CartesianIndex(4, 5)\n",
       " CartesianIndex(6, 5)\n",
       " ⋮\n",
       " CartesianIndex(16, 15)\n",
       " CartesianIndex(7, 16)\n",
       " CartesianIndex(8, 16)\n",
       " CartesianIndex(15, 16)\n",
       " CartesianIndex(5, 17)\n",
       " CartesianIndex(3, 18)\n",
       " CartesianIndex(7, 18)\n",
       " CartesianIndex(8, 18)\n",
       " CartesianIndex(11, 18)"
      ]
     },
     "metadata": {},
     "output_type": "display_data"
    }
   ],
   "source": [
    "edges = findall(g1)"
   ]
  },
  {
   "cell_type": "code",
   "execution_count": 27,
   "metadata": {},
   "outputs": [
    {
     "data": {
      "text/plain": [
       "CartesianIndex(1, 1)"
      ]
     },
     "metadata": {},
     "output_type": "display_data"
    }
   ],
   "source": [
    "e1 = edges[1]"
   ]
  },
  {
   "cell_type": "code",
   "execution_count": 40,
   "metadata": {},
   "outputs": [
    {
     "data": {
      "text/plain": [
       "graph_to_vector (generic function with 1 method)"
      ]
     },
     "metadata": {},
     "output_type": "display_data"
    }
   ],
   "source": [
    "function graph_to_vector(graph::AbstractMatrix, nd::Int)\n",
    "    @assert size(graph,1) == size(graph,2) \"Takes an adjacency matrix as the input\"\n",
    "    n = size(graph,1)\n",
    "    #create vectors representing the nodes\n",
    "    node_values = random_symbols((n, nd))\n",
    "    #get cartesian coordinates representing each edge\n",
    "    edges = findall(graph)\n",
    "    n_edges = length(edges)\n",
    "    edge_values = zeros(Float64, n_edges, nd)\n",
    "\n",
    "    #iterate through the edges\n",
    "    for (i, edge) in enumerate(edges)\n",
    "        tx = edge[1]\n",
    "        rx = edge[2]\n",
    "\n",
    "        tx_symbol = node_values[tx,:]\n",
    "        rx_symbol = node_values[rx,:]\n",
    "        #create a representation for that edge by binding its incident nodes\n",
    "        edge_symbol = PhasorNetworks.bind(tx_symbol, rx_symbol)\n",
    "        edge_values[i,:] = edge_symbol\n",
    "    end\n",
    "\n",
    "    #combine the edges in the graph to the single embedding via bundling\n",
    "    graph_embedding = bundle(edge_values, dims=1)\n",
    "    return node_values, graph_embedding\n",
    "end"
   ]
  },
  {
   "cell_type": "code",
   "execution_count": 42,
   "metadata": {},
   "outputs": [
    {
     "data": {
      "text/plain": [
       "([-0.09215080738067627 -0.3930014371871948 … 0.2976473569869995 0.7505167722702026; -0.8252460956573486 -0.46050405502319336 … 0.28560328483581543 -0.5822343826293945; … ; 0.9176154136657715 0.3450801372528076 … 0.957565188407898 -0.21860146522521973; -0.7117501497268677 0.931100606918335 … 0.30991852283477783 0.9927903413772583], [-0.724975672529535 0.7470912680474266 … -0.4191979076492462 0.12671034108080745])"
      ]
     },
     "metadata": {},
     "output_type": "display_data"
    }
   ],
   "source": [
    "nv1, gv1 = graph_to_vector(g1, 1024)"
   ]
  },
  {
   "cell_type": "code",
   "execution_count": 43,
   "metadata": {},
   "outputs": [
    {
     "data": {
      "text/plain": [
       "(20, 1024)"
      ]
     },
     "metadata": {},
     "output_type": "display_data"
    }
   ],
   "source": [
    "nv1 |> size"
   ]
  },
  {
   "cell_type": "code",
   "execution_count": 44,
   "metadata": {},
   "outputs": [
    {
     "data": {
      "text/plain": [
       "1×1024 Matrix{Float64}:\n",
       " -0.724976  0.747091  0.487704  0.308178  …  -0.19254  -0.419198  0.12671"
      ]
     },
     "metadata": {},
     "output_type": "display_data"
    }
   ],
   "source": [
    "gv1"
   ]
  },
  {
   "cell_type": "code",
   "execution_count": null,
   "metadata": {},
   "outputs": [],
   "source": [
    "function query_edges(graph::AbstractMatrix, nodes::AbstractMatrix, threshold::Real = 3.0)\n",
    "    n = size(nodes,1)\n",
    "\n",
    "    for node in eachslice(nodes, dims=1)\n",
    "        "
   ]
  },
  {
   "cell_type": "code",
   "execution_count": null,
   "metadata": {},
   "outputs": [],
   "source": []
  },
  {
   "cell_type": "code",
   "execution_count": null,
   "metadata": {},
   "outputs": [],
   "source": []
  }
 ],
 "metadata": {
  "kernelspec": {
   "display_name": "Julia 1.9.0",
   "language": "julia",
   "name": "julia-1.9"
  },
  "language_info": {
   "file_extension": ".jl",
   "mimetype": "application/julia",
   "name": "julia",
   "version": "1.9.0"
  },
  "orig_nbformat": 4
 },
 "nbformat": 4,
 "nbformat_minor": 2
}
