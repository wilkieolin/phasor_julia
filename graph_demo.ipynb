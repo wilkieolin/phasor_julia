{
 "cells": [
  {
   "cell_type": "code",
   "execution_count": 1,
   "metadata": {},
   "outputs": [
    {
     "name": "stderr",
     "output_type": "stream",
     "text": [
      "\u001b[32m\u001b[1m  Activating\u001b[22m\u001b[39m project at `~/code/phasor_julia`\n"
     ]
    }
   ],
   "source": [
    "using Pkg\n",
    "Pkg.activate(\".\")"
   ]
  },
  {
   "cell_type": "code",
   "execution_count": 2,
   "metadata": {},
   "outputs": [
    {
     "name": "stderr",
     "output_type": "stream",
     "text": [
      "┌ Warning: Replacing docs for `Main.PhasorNetworks.phase_to_potential :: Tuple{Real, AbstractVector, Real, Main.PhasorNetworks.SpikingArgs}` in module `Main.PhasorNetworks`\n",
      "└ @ Base.Docs docs/Docs.jl:243\n",
      "┌ Warning: Replacing docs for `Main.PhasorNetworks.potential_to_phase :: Tuple{AbstractArray, Real, Real, Main.PhasorNetworks.SpikingArgs}` in module `Main.PhasorNetworks`\n",
      "└ @ Base.Docs docs/Docs.jl:243\n",
      "┌ Warning: Replacing docs for `Main.PhasorNetworks.phase_to_train :: Tuple{AbstractArray, Main.PhasorNetworks.SpikingArgs}` in module `Main.PhasorNetworks`\n",
      "└ @ Base.Docs docs/Docs.jl:243\n",
      "┌ Warning: Replacing docs for `Main.PhasorNetworks.phase_to_potential :: Tuple{Real, AbstractVector, Real, Main.PhasorNetworks.SpikingArgs}` in module `Main.PhasorNetworks`\n",
      "└ @ Base.Docs docs/Docs.jl:243\n"
     ]
    },
    {
     "name": "stderr",
     "output_type": "stream",
     "text": [
      "┌ Warning: Replacing docs for `Main.PhasorNetworks.potential_to_phase :: Tuple{AbstractArray, Real, Real, Main.PhasorNetworks.SpikingArgs}` in module `Main.PhasorNetworks`\n",
      "└ @ Base.Docs docs/Docs.jl:243\n",
      "┌ Warning: Replacing docs for `Main.PhasorNetworks.phase_to_train :: Tuple{AbstractArray, Main.PhasorNetworks.SpikingArgs}` in module `Main.PhasorNetworks`\n",
      "└ @ Base.Docs docs/Docs.jl:243\n",
      "┌ Warning: Replacing docs for `Main.PhasorNetworks.phase_to_potential :: Tuple{Real, AbstractVector, Real, Main.PhasorNetworks.SpikingArgs}` in module `Main.PhasorNetworks`\n",
      "└ @ Base.Docs docs/Docs.jl:243\n",
      "┌ Warning: Replacing docs for `Main.PhasorNetworks.potential_to_phase :: Tuple{AbstractArray, Real, Real, Main.PhasorNetworks.SpikingArgs}` in module `Main.PhasorNetworks`\n",
      "└ @ Base.Docs docs/Docs.jl:243\n",
      "┌ Warning: Replacing docs for `Main.PhasorNetworks.phase_to_train :: Tuple{AbstractArray, Main.PhasorNetworks.SpikingArgs}` in module `Main.PhasorNetworks`\n",
      "└ @ Base.Docs docs/Docs.jl:243\n"
     ]
    }
   ],
   "source": [
    "include(\"module.jl\")\n",
    "using .PhasorNetworks"
   ]
  },
  {
   "cell_type": "code",
   "execution_count": 3,
   "metadata": {},
   "outputs": [],
   "source": [
    "using LinearAlgebra: triu, diagm"
   ]
  },
  {
   "cell_type": "code",
   "execution_count": 4,
   "metadata": {},
   "outputs": [],
   "source": [
    "using Statistics: std"
   ]
  },
  {
   "cell_type": "code",
   "execution_count": 5,
   "metadata": {},
   "outputs": [
    {
     "data": {
      "text/plain": [
       "0.02160992606191345"
      ]
     },
     "metadata": {},
     "output_type": "display_data"
    }
   ],
   "source": [
    "chance_level(1024, 200)"
   ]
  },
  {
   "cell_type": "code",
   "execution_count": 25,
   "metadata": {},
   "outputs": [
    {
     "data": {
      "text/plain": [
       "generate_er_graph (generic function with 2 methods)"
      ]
     },
     "metadata": {},
     "output_type": "display_data"
    }
   ],
   "source": [
    "function generate_er_graph(n::Int, p::Real, self_loops::Bool = false)\n",
    "    adj = rand(Float64, (n, n)) .< p\n",
    "    #make undirected\n",
    "    adj = triu(adj)\n",
    "    adj =  (adj .+ adj') .> 0\n",
    "\n",
    "    if !self_loops\n",
    "        #remove self-loops\n",
    "        for i in 1:n\n",
    "            adj[i,i] = 0\n",
    "        end\n",
    "    end\n",
    "\n",
    "    return adj\n",
    "end"
   ]
  },
  {
   "cell_type": "code",
   "execution_count": 26,
   "metadata": {},
   "outputs": [
    {
     "data": {
      "text/plain": [
       "20×20 BitMatrix:\n",
       " 0  0  0  1  0  1  0  0  0  0  0  0  0  0  0  0  0  0  1  0\n",
       " 0  0  0  0  0  0  0  0  0  0  0  0  0  0  0  0  0  0  0  1\n",
       " 0  0  0  0  0  0  0  1  1  1  1  0  0  0  0  0  0  0  0  0\n",
       " 1  0  0  0  0  0  0  1  0  0  0  0  0  0  0  0  0  0  1  0\n",
       " 0  0  0  0  0  0  0  0  0  1  0  0  0  1  0  0  0  0  0  0\n",
       " 1  0  0  0  0  0  0  0  0  0  0  0  0  0  0  0  0  0  0  1\n",
       " 0  0  0  0  0  0  0  0  0  0  1  0  0  0  0  0  0  0  0  0\n",
       " 0  0  1  1  0  0  0  0  0  0  0  1  0  0  0  0  0  0  0  0\n",
       " 0  0  1  0  0  0  0  0  0  0  0  0  0  0  0  0  0  0  0  1\n",
       " 0  0  1  0  1  0  0  0  0  0  0  0  0  0  0  0  0  0  1  0\n",
       " 0  0  1  0  0  0  1  0  0  0  0  0  0  0  0  0  0  0  0  1\n",
       " 0  0  0  0  0  0  0  1  0  0  0  0  0  0  0  0  0  0  0  0\n",
       " 0  0  0  0  0  0  0  0  0  0  0  0  0  0  1  0  0  0  1  0\n",
       " 0  0  0  0  1  0  0  0  0  0  0  0  0  0  0  0  0  0  0  0\n",
       " 0  0  0  0  0  0  0  0  0  0  0  0  1  0  0  0  0  0  0  0\n",
       " 0  0  0  0  0  0  0  0  0  0  0  0  0  0  0  0  0  0  0  0\n",
       " 0  0  0  0  0  0  0  0  0  0  0  0  0  0  0  0  0  1  1  0\n",
       " 0  0  0  0  0  0  0  0  0  0  0  0  0  0  0  0  1  0  0  1\n",
       " 1  0  0  1  0  0  0  0  0  1  0  0  1  0  0  0  1  0  0  0\n",
       " 0  1  0  0  0  1  0  0  1  0  1  0  0  0  0  0  0  1  0  0"
      ]
     },
     "metadata": {},
     "output_type": "display_data"
    }
   ],
   "source": [
    "g1 = generate_er_graph(20, 0.1)"
   ]
  },
  {
   "cell_type": "code",
   "execution_count": 27,
   "metadata": {},
   "outputs": [
    {
     "data": {
      "text/plain": [
       "46-element Vector{CartesianIndex{2}}:\n",
       " CartesianIndex(4, 1)\n",
       " CartesianIndex(6, 1)\n",
       " CartesianIndex(19, 1)\n",
       " CartesianIndex(20, 2)\n",
       " CartesianIndex(8, 3)\n",
       " CartesianIndex(9, 3)\n",
       " CartesianIndex(10, 3)\n",
       " CartesianIndex(11, 3)\n",
       " CartesianIndex(1, 4)\n",
       " CartesianIndex(8, 4)\n",
       " ⋮\n",
       " CartesianIndex(4, 19)\n",
       " CartesianIndex(10, 19)\n",
       " CartesianIndex(13, 19)\n",
       " CartesianIndex(17, 19)\n",
       " CartesianIndex(2, 20)\n",
       " CartesianIndex(6, 20)\n",
       " CartesianIndex(9, 20)\n",
       " CartesianIndex(11, 20)\n",
       " CartesianIndex(18, 20)"
      ]
     },
     "metadata": {},
     "output_type": "display_data"
    }
   ],
   "source": [
    "edges = findall(g1)"
   ]
  },
  {
   "cell_type": "code",
   "execution_count": 28,
   "metadata": {},
   "outputs": [
    {
     "data": {
      "text/plain": [
       "CartesianIndex(4, 1)"
      ]
     },
     "metadata": {},
     "output_type": "display_data"
    }
   ],
   "source": [
    "e1 = edges[1]"
   ]
  },
  {
   "cell_type": "code",
   "execution_count": 29,
   "metadata": {},
   "outputs": [
    {
     "data": {
      "text/plain": [
       "graph_to_vector (generic function with 1 method)"
      ]
     },
     "metadata": {},
     "output_type": "display_data"
    }
   ],
   "source": [
    "function graph_to_vector(graph::AbstractMatrix, nd::Int)\n",
    "    @assert size(graph,1) == size(graph,2) \"Takes an adjacency matrix as the input\"\n",
    "    n = size(graph,1)\n",
    "    #create vectors representing the nodes\n",
    "    node_values = random_symbols((n, nd))\n",
    "    #get cartesian coordinates representing each edge\n",
    "    edges = findall(graph)\n",
    "    n_edges = length(edges)\n",
    "    edge_values = zeros(Float64, n_edges, nd)\n",
    "\n",
    "    #iterate through the edges\n",
    "    for (i, edge) in enumerate(edges)\n",
    "        tx = edge[1]\n",
    "        rx = edge[2]\n",
    "\n",
    "        tx_symbol = node_values[tx,:]\n",
    "        rx_symbol = node_values[rx,:]\n",
    "        #create a representation for that edge by binding its incident nodes\n",
    "        edge_symbol = PhasorNetworks.bind(tx_symbol, rx_symbol)\n",
    "        edge_values[i,:] = edge_symbol\n",
    "    end\n",
    "\n",
    "    #combine the edges in the graph to the single embedding via bundling\n",
    "    graph_embedding = bundle(edge_values, dims=1)\n",
    "    return node_values, graph_embedding\n",
    "end"
   ]
  },
  {
   "cell_type": "code",
   "execution_count": 30,
   "metadata": {},
   "outputs": [
    {
     "data": {
      "text/plain": [
       "([0.6192258596420288 0.31488358974456787 … -0.053089261054992676 0.5775110721588135; -0.09060060977935791 0.6215229034423828 … -0.44997072219848633 -0.32227563858032227; … ; 0.21948456764221191 0.6484586000442505 … 0.8004494905471802 -0.9631133079528809; 0.4952505826950073 -0.9375089406967163 … 0.051482439041137695 -0.7570844888687134], [0.1999413365065328 -0.44744670235909284 … -0.38399521908670325 -0.36504054346663756])"
      ]
     },
     "metadata": {},
     "output_type": "display_data"
    }
   ],
   "source": [
    "nv1, gv1 = graph_to_vector(g1, 1024)"
   ]
  },
  {
   "cell_type": "code",
   "execution_count": 31,
   "metadata": {},
   "outputs": [
    {
     "data": {
      "text/plain": [
       "(20, 1024)"
      ]
     },
     "metadata": {},
     "output_type": "display_data"
    }
   ],
   "source": [
    "nv1 |> size"
   ]
  },
  {
   "cell_type": "code",
   "execution_count": 32,
   "metadata": {},
   "outputs": [
    {
     "data": {
      "text/plain": [
       "1×1024 Matrix{Float64}:\n",
       " 0.199941  -0.447447  -0.342239  0.43161  …  -0.269928  -0.383995  -0.365041"
      ]
     },
     "metadata": {},
     "output_type": "display_data"
    }
   ],
   "source": [
    "gv1"
   ]
  },
  {
   "cell_type": "code",
   "execution_count": 33,
   "metadata": {},
   "outputs": [
    {
     "data": {
      "text/plain": [
       "3×3 Matrix{Int64}:\n",
       " 0  0  0\n",
       " 0  0  0\n",
       " 0  0  0"
      ]
     },
     "metadata": {},
     "output_type": "display_data"
    }
   ],
   "source": [
    "zeros(Int64, 3,3)"
   ]
  },
  {
   "cell_type": "code",
   "execution_count": 34,
   "metadata": {},
   "outputs": [
    {
     "data": {
      "text/plain": [
       "1×1024 Matrix{Float64}:\n",
       " 0.619226  0.314884  0.45361  0.424709  …  -0.865675  -0.0530893  0.577511"
      ]
     },
     "metadata": {},
     "output_type": "display_data"
    }
   ],
   "source": [
    "e = nv1[1:1,:]"
   ]
  },
  {
   "cell_type": "code",
   "execution_count": 35,
   "metadata": {},
   "outputs": [
    {
     "data": {
      "text/plain": [
       "1024-element view(::Matrix{Float64}, 1, :) with eltype Float64:\n",
       "  0.6192258596420288\n",
       "  0.31488358974456787\n",
       "  0.45361006259918213\n",
       "  0.4247094392776489\n",
       "  0.048892974853515625\n",
       " -0.897257924079895\n",
       "  0.8199940919876099\n",
       "  0.7890224456787109\n",
       "  0.018862128257751465\n",
       " -0.845494270324707\n",
       "  ⋮\n",
       " -0.38997113704681396\n",
       "  0.7367422580718994\n",
       "  0.6467392444610596\n",
       " -0.8650505542755127\n",
       "  0.2849041223526001\n",
       "  0.5926374197006226\n",
       " -0.865674614906311\n",
       " -0.053089261054992676\n",
       "  0.5775110721588135"
      ]
     },
     "metadata": {},
     "output_type": "display_data"
    }
   ],
   "source": [
    "e2 = eachslice(nv1, dims=1)[1]"
   ]
  },
  {
   "cell_type": "code",
   "execution_count": 36,
   "metadata": {},
   "outputs": [
    {
     "data": {
      "text/plain": [
       "1×1024 Matrix{Float64}:\n",
       " -0.419285  -0.76233  -0.795849  0.0069005  …  0.595746  -0.330906  -0.942552"
      ]
     },
     "metadata": {},
     "output_type": "display_data"
    }
   ],
   "source": [
    "q = unbind(gv1, e)"
   ]
  },
  {
   "cell_type": "code",
   "execution_count": 37,
   "metadata": {},
   "outputs": [
    {
     "data": {
      "text/plain": [
       "1×1024 Matrix{Float64}:\n",
       " -0.419285  -0.76233  -0.795849  0.0069005  …  0.595746  -0.330906  -0.942552"
      ]
     },
     "metadata": {},
     "output_type": "display_data"
    }
   ],
   "source": [
    "q = unbind(gv1, reshape(e2, (1,:)))"
   ]
  },
  {
   "cell_type": "code",
   "execution_count": 38,
   "metadata": {},
   "outputs": [
    {
     "data": {
      "text/plain": [
       "20-element Vector{Float64}:\n",
       " -5.739850983653495e-5\n",
       "  0.014994900397499334\n",
       " -0.026325921486153907\n",
       "  0.1341276604866228\n",
       "  0.009383427563616209\n",
       "  0.15146370048990204\n",
       "  0.04108899631156734\n",
       " -0.029100052216749526\n",
       " -0.007813304275803281\n",
       "  0.0038315523632059564\n",
       " -0.00980438638904436\n",
       " -0.068700703798954\n",
       "  0.001678597506371525\n",
       " -0.00860024256799912\n",
       " -0.022026601464654356\n",
       "  0.010261442142451865\n",
       "  0.017846635810013584\n",
       "  0.005093642236488586\n",
       "  0.15965314472533376\n",
       " -0.0023130963542708433"
      ]
     },
     "metadata": {},
     "output_type": "display_data"
    }
   ],
   "source": [
    "similarity_outer(q, nv1, dims = 1) |> vec"
   ]
  },
  {
   "cell_type": "code",
   "execution_count": 39,
   "metadata": {},
   "outputs": [
    {
     "data": {
      "text/plain": [
       "query_edges (generic function with 2 methods)"
      ]
     },
     "metadata": {},
     "output_type": "display_data"
    }
   ],
   "source": [
    "function query_edges(graph::AbstractMatrix, nodes::AbstractMatrix, threshold::Real = 3.0)\n",
    "    n = size(nodes, 1)\n",
    "    nd = size(graph, 2)\n",
    "\n",
    "    sim_threshold = threshold * chance_level(nd, 200)\n",
    "\n",
    "    adj_rec = zeros(Int64, n, n)\n",
    "    for (i,node) in enumerate(eachslice(nodes, dims=1))\n",
    "        #add a dimension for consistency\n",
    "        node = reshape(node, (1, :))\n",
    "        query = unbind(graph, node)\n",
    "        s = similarity_outer(query, nodes, dims=1) |> vec\n",
    "        adj_node = s .> sim_threshold\n",
    "        adj_rec[i,:] = adj_node\n",
    "    end\n",
    "\n",
    "    return adj_rec\n",
    "end"
   ]
  },
  {
   "cell_type": "code",
   "execution_count": 40,
   "metadata": {},
   "outputs": [
    {
     "data": {
      "text/plain": [
       "20×20 Matrix{Int64}:\n",
       " 0  0  0  1  0  1  0  0  0  0  0  0  0  0  0  0  0  0  1  0\n",
       " 0  0  0  0  0  0  0  0  0  0  0  0  0  0  0  0  0  0  0  1\n",
       " 0  0  0  0  0  0  0  1  1  1  1  0  0  0  0  0  0  0  0  0\n",
       " 1  0  0  0  0  0  0  1  0  0  0  0  0  0  0  0  0  0  1  0\n",
       " 0  0  0  0  0  0  0  0  0  1  0  0  0  1  0  0  0  0  0  0\n",
       " 1  0  0  0  0  0  0  0  1  0  0  0  0  0  0  0  0  0  0  1\n",
       " 0  0  0  0  0  0  0  0  0  0  1  0  0  0  0  0  0  0  0  0\n",
       " 0  0  1  1  0  0  0  0  0  0  0  1  0  0  0  0  0  0  0  0\n",
       " 0  0  1  0  0  1  0  0  0  0  0  0  0  0  0  0  0  0  0  1\n",
       " 0  0  1  0  1  0  0  0  0  0  0  0  0  0  0  0  0  0  1  0\n",
       " 0  0  1  0  0  0  1  0  0  0  0  0  0  0  0  0  0  0  0  1\n",
       " 0  0  0  0  0  0  0  1  0  0  0  0  0  0  0  0  0  0  0  0\n",
       " 0  0  0  0  0  0  0  0  0  0  0  0  0  0  1  0  0  0  1  0\n",
       " 0  0  0  0  1  0  0  0  0  0  0  0  0  0  0  0  0  0  0  0\n",
       " 0  0  0  0  0  0  0  0  0  0  0  0  1  0  0  0  0  0  0  0\n",
       " 0  0  0  0  0  0  0  0  0  0  0  0  0  0  0  0  0  0  0  0\n",
       " 0  0  0  0  0  0  0  0  0  0  0  0  0  0  0  0  0  1  1  0\n",
       " 0  0  0  0  0  0  0  0  0  0  0  0  0  0  0  0  1  0  0  1\n",
       " 1  0  0  1  0  0  0  0  0  1  0  0  1  0  0  0  1  0  0  0\n",
       " 0  1  0  0  0  1  0  0  1  0  1  0  0  0  0  0  0  1  0  0"
      ]
     },
     "metadata": {},
     "output_type": "display_data"
    }
   ],
   "source": [
    "rec1 = query_edges(gv1, nv1, 3)"
   ]
  },
  {
   "cell_type": "code",
   "execution_count": 41,
   "metadata": {},
   "outputs": [
    {
     "data": {
      "text/plain": [
       "20×20 Matrix{Int64}:\n",
       " 0  0  0  0  0  0  0  0  0  0  0  0  0  0  0  0  0  0  0  0\n",
       " 0  0  0  0  0  0  0  0  0  0  0  0  0  0  0  0  0  0  0  0\n",
       " 0  0  0  0  0  0  0  0  0  0  0  0  0  0  0  0  0  0  0  0\n",
       " 0  0  0  0  0  0  0  0  0  0  0  0  0  0  0  0  0  0  0  0\n",
       " 0  0  0  0  0  0  0  0  0  0  0  0  0  0  0  0  0  0  0  0\n",
       " 0  0  0  0  0  0  0  0  1  0  0  0  0  0  0  0  0  0  0  0\n",
       " 0  0  0  0  0  0  0  0  0  0  0  0  0  0  0  0  0  0  0  0\n",
       " 0  0  0  0  0  0  0  0  0  0  0  0  0  0  0  0  0  0  0  0\n",
       " 0  0  0  0  0  1  0  0  0  0  0  0  0  0  0  0  0  0  0  0\n",
       " 0  0  0  0  0  0  0  0  0  0  0  0  0  0  0  0  0  0  0  0\n",
       " 0  0  0  0  0  0  0  0  0  0  0  0  0  0  0  0  0  0  0  0\n",
       " 0  0  0  0  0  0  0  0  0  0  0  0  0  0  0  0  0  0  0  0\n",
       " 0  0  0  0  0  0  0  0  0  0  0  0  0  0  0  0  0  0  0  0\n",
       " 0  0  0  0  0  0  0  0  0  0  0  0  0  0  0  0  0  0  0  0\n",
       " 0  0  0  0  0  0  0  0  0  0  0  0  0  0  0  0  0  0  0  0\n",
       " 0  0  0  0  0  0  0  0  0  0  0  0  0  0  0  0  0  0  0  0\n",
       " 0  0  0  0  0  0  0  0  0  0  0  0  0  0  0  0  0  0  0  0\n",
       " 0  0  0  0  0  0  0  0  0  0  0  0  0  0  0  0  0  0  0  0\n",
       " 0  0  0  0  0  0  0  0  0  0  0  0  0  0  0  0  0  0  0  0\n",
       " 0  0  0  0  0  0  0  0  0  0  0  0  0  0  0  0  0  0  0  0"
      ]
     },
     "metadata": {},
     "output_type": "display_data"
    }
   ],
   "source": [
    "rec1 .- g1"
   ]
  },
  {
   "cell_type": "code",
   "execution_count": 42,
   "metadata": {},
   "outputs": [],
   "source": []
  }
 ],
 "metadata": {
  "kernelspec": {
   "display_name": "Julia 1.9.0",
   "language": "julia",
   "name": "julia-1.9"
  },
  "language_info": {
   "file_extension": ".jl",
   "mimetype": "application/julia",
   "name": "julia",
   "version": "1.9.0"
  },
  "orig_nbformat": 4
 },
 "nbformat": 4,
 "nbformat_minor": 2
}
